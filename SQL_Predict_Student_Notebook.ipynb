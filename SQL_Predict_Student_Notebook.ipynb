{
 "cells": [
  {
   "cell_type": "markdown",
   "metadata": {
    "id": "kJ9OEzDBgwvw"
   },
   "source": [
    "# SQL 4 Data Science: Predict Project\n",
    "## Bhejane Online Trading Store\n",
    "\n",
    "### Student Starter Notebook\n",
    "\n",
    "© Explore Data Science Academy\n",
    "\n",
    "### Honour Code\n",
    "\n",
    "I {**YOUR NAME**, **YOUR SURNAME**}, confirm - by submitting this document - that the solutions in this notebook are a result of my own work and that I abide by the EDSA honour code (https://drive.google.com/file/d/1QDCjGZJ8-FmJE3bZdIQNwnJyQKPhHZBn/view?usp=sharing).\n",
    "\n",
    "Non-compliance with the honour code constitutes a material breach of contract."
   ]
  },
  {
   "cell_type": "markdown",
   "metadata": {
    "id": "p40FILKTgwvy"
   },
   "source": [
    "<a id='Context'></a>\n",
    "### 1. Context\n",
    "\n",
    "<div align=\"center\" style=\"width: 600px; font-size: 80%; text-align: center; margin: 0 auto\">\n",
    "<img src=\"https://raw.githubusercontent.com/Explore-AI/Pictures/master/Bhejane_large.jpg\"\n",
    "     alt=\"The Black Rhino\"\n",
    "     style=\"float: center; padding-bottom=0.5em\"\n",
    "     width=600px/>\n",
    "     Bhejane, or the Black Rhino. Image by <a href=\"https://commons.wikimedia.org/wiki/File:Black_Rhino_(Diceros_bicornis)_browsing_..._(46584052962).jpg\">Wikimedia Commons</a>\n",
    "</div>\n",
    "\n",
    "\n",
    "The Bhejane trading store is an online retailer specialising in Covid essesstial items. The store has recently be struggling with the management of its database-related inventory system. Luckily for them, you've been hired as a consultant to fix the problem. \n",
    "\n",
    "Its time to flex your Ninja SQL skills! \n",
    " \n",
    "**Your mission, should you choose to accept it:**\n",
    "\n",
    "You will receive a denormalised database consisting of two tables. Your task is to transform the database such that is in third normal form (3NF). To ensure that a consistent normalisation process is followed by each student, we have attached an Entity Relationship Diagram (ERD) which is a guideline on what tables need to be produced. Once you have normalised the databasse, you will be required to complete an MCQ test found under the 'Predict' tab of Athena.  "
   ]
  },
  {
   "cell_type": "markdown",
   "metadata": {
    "id": "4hrluJ8Fgwvz"
   },
   "source": [
    "<a id='Imports'></a>\n",
    "### 2. Imports\n",
    "Please use the below command to install sql_magic, this is the package that will assist you with SQL syntax hightlighting.\n",
    "* pip install sql_magic\n",
    "\n",
    "Remember to start each new cell with \" %%read_sql \""
   ]
  },
  {
   "cell_type": "code",
   "execution_count": 159,
   "metadata": {
    "id": "v_6LpuJDgwvz"
   },
   "outputs": [
    {
     "name": "stdout",
     "output_type": "stream",
     "text": [
      "The sql_magic extension is already loaded. To reload it, use:\n",
      "  %reload_ext sql_magic\n"
     ]
    }
   ],
   "source": [
    "# DO NOT EDIT THIS CELL\n",
    "import sqlite3\n",
    "import csv\n",
    "from sqlalchemy import create_engine\n",
    "%load_ext sql_magic\n",
    "\n",
    "# Load SQLite database\n",
    "engine  = create_engine(\"sqlite:///bhejane.db\")\n",
    "%config SQL.conn_name ='engine'"
   ]
  },
  {
   "cell_type": "markdown",
   "metadata": {
    "id": "tI8p4seXgwv3"
   },
   "source": [
    "<a id='Data_description'></a>\n",
    "### 3. Data description\n",
    "\n",
    "The original database consist of 2 tables. \n",
    "* Product Table\n",
    "* Transaction Table"
   ]
  },
  {
   "cell_type": "code",
   "execution_count": 160,
   "metadata": {
    "id": "oTb59N4Dgwv4",
    "outputId": "694a9594-2141-47a1-ad6e-f85c2571c355"
   },
   "outputs": [
    {
     "data": {
      "text/html": [
       "<div>\n",
       "<style scoped>\n",
       "    .dataframe tbody tr th:only-of-type {\n",
       "        vertical-align: middle;\n",
       "    }\n",
       "\n",
       "    .dataframe tbody tr th {\n",
       "        vertical-align: top;\n",
       "    }\n",
       "\n",
       "    .dataframe thead th {\n",
       "        text-align: right;\n",
       "    }\n",
       "</style>\n",
       "<table border=\"1\" class=\"dataframe\">\n",
       "  <thead>\n",
       "    <tr style=\"text-align: right;\">\n",
       "      <th></th>\n",
       "      <th>Table Name</th>\n",
       "      <th>Column Name</th>\n",
       "      <th>Desciption</th>\n",
       "    </tr>\n",
       "  </thead>\n",
       "  <tbody>\n",
       "    <tr>\n",
       "      <th>0</th>\n",
       "      <td>Products</td>\n",
       "      <td>Width</td>\n",
       "      <td>Width of the product once assembled</td>\n",
       "    </tr>\n",
       "    <tr>\n",
       "      <th>1</th>\n",
       "      <td>Products</td>\n",
       "      <td>Length</td>\n",
       "      <td>Length of the product once assembled</td>\n",
       "    </tr>\n",
       "    <tr>\n",
       "      <th>2</th>\n",
       "      <td>Products</td>\n",
       "      <td>Height</td>\n",
       "      <td>Height of the product once assembled</td>\n",
       "    </tr>\n",
       "    <tr>\n",
       "      <th>3</th>\n",
       "      <td>Products</td>\n",
       "      <td>Barcode</td>\n",
       "      <td>The unique product identifier</td>\n",
       "    </tr>\n",
       "    <tr>\n",
       "      <th>4</th>\n",
       "      <td>Products</td>\n",
       "      <td>Quantity</td>\n",
       "      <td>Number of goods in stock</td>\n",
       "    </tr>\n",
       "    <tr>\n",
       "      <th>5</th>\n",
       "      <td>Products</td>\n",
       "      <td>Brand</td>\n",
       "      <td>Product brand name relating to product company</td>\n",
       "    </tr>\n",
       "    <tr>\n",
       "      <th>6</th>\n",
       "      <td>Products</td>\n",
       "      <td>NavigationPath</td>\n",
       "      <td>Navigation path to specific product</td>\n",
       "    </tr>\n",
       "    <tr>\n",
       "      <th>7</th>\n",
       "      <td>Products</td>\n",
       "      <td>Colour</td>\n",
       "      <td>Name default colour for the product</td>\n",
       "    </tr>\n",
       "    <tr>\n",
       "      <th>8</th>\n",
       "      <td>Products</td>\n",
       "      <td>StockCountry</td>\n",
       "      <td>Country where the stock was bought from</td>\n",
       "    </tr>\n",
       "    <tr>\n",
       "      <th>9</th>\n",
       "      <td>Products</td>\n",
       "      <td>ProductDescription</td>\n",
       "      <td>Descriptive product name</td>\n",
       "    </tr>\n",
       "    <tr>\n",
       "      <th>10</th>\n",
       "      <td>Products</td>\n",
       "      <td>PackType</td>\n",
       "      <td>The way in which the product is packaged</td>\n",
       "    </tr>\n",
       "    <tr>\n",
       "      <th>11</th>\n",
       "      <td>Products</td>\n",
       "      <td>Volume_litre</td>\n",
       "      <td>The quantity of liquid based products</td>\n",
       "    </tr>\n",
       "    <tr>\n",
       "      <th>12</th>\n",
       "      <td>Products</td>\n",
       "      <td>Warranty</td>\n",
       "      <td>Product warranty type</td>\n",
       "    </tr>\n",
       "    <tr>\n",
       "      <th>13</th>\n",
       "      <td>Products</td>\n",
       "      <td>Weight_kg</td>\n",
       "      <td>Weight of the product</td>\n",
       "    </tr>\n",
       "    <tr>\n",
       "      <th>14</th>\n",
       "      <td>Products</td>\n",
       "      <td>ItemDescription</td>\n",
       "      <td>Description of contents of the package</td>\n",
       "    </tr>\n",
       "    <tr>\n",
       "      <th>15</th>\n",
       "      <td>Products</td>\n",
       "      <td>Price</td>\n",
       "      <td>The cost of the product in Rands</td>\n",
       "    </tr>\n",
       "    <tr>\n",
       "      <th>16</th>\n",
       "      <td>Transactions</td>\n",
       "      <td>CartID</td>\n",
       "      <td>Identifies an individual basket from a user pu...</td>\n",
       "    </tr>\n",
       "    <tr>\n",
       "      <th>17</th>\n",
       "      <td>Transactions</td>\n",
       "      <td>Barcode</td>\n",
       "      <td>Barcode for item that user purchased</td>\n",
       "    </tr>\n",
       "    <tr>\n",
       "      <th>18</th>\n",
       "      <td>Transactions</td>\n",
       "      <td>Total</td>\n",
       "      <td>Total value of a transaction</td>\n",
       "    </tr>\n",
       "    <tr>\n",
       "      <th>19</th>\n",
       "      <td>Transactions</td>\n",
       "      <td>UserName</td>\n",
       "      <td>Name of customer purchasing stock</td>\n",
       "    </tr>\n",
       "    <tr>\n",
       "      <th>20</th>\n",
       "      <td>Transactions</td>\n",
       "      <td>InvoiceDate</td>\n",
       "      <td>Date on which the product was bought</td>\n",
       "    </tr>\n",
       "  </tbody>\n",
       "</table>\n",
       "</div>"
      ],
      "text/plain": [
       "      Table Name         Column Name  \\\n",
       "0       Products               Width   \n",
       "1       Products              Length   \n",
       "2       Products              Height   \n",
       "3       Products             Barcode   \n",
       "4       Products            Quantity   \n",
       "5       Products               Brand   \n",
       "6       Products      NavigationPath   \n",
       "7       Products              Colour   \n",
       "8       Products        StockCountry   \n",
       "9       Products  ProductDescription   \n",
       "10      Products            PackType   \n",
       "11      Products        Volume_litre   \n",
       "12      Products            Warranty   \n",
       "13      Products           Weight_kg   \n",
       "14      Products     ItemDescription   \n",
       "15      Products               Price   \n",
       "16  Transactions              CartID   \n",
       "17  Transactions             Barcode   \n",
       "18  Transactions               Total   \n",
       "19  Transactions            UserName   \n",
       "20  Transactions         InvoiceDate   \n",
       "\n",
       "                                          Desciption   \n",
       "0                 Width of the product once assembled  \n",
       "1                Length of the product once assembled  \n",
       "2                Height of the product once assembled  \n",
       "3                      The unique product identifier   \n",
       "4                            Number of goods in stock  \n",
       "5      Product brand name relating to product company  \n",
       "6                 Navigation path to specific product  \n",
       "7                 Name default colour for the product  \n",
       "8             Country where the stock was bought from  \n",
       "9                            Descriptive product name  \n",
       "10           The way in which the product is packaged  \n",
       "11              The quantity of liquid based products  \n",
       "12                              Product warranty type  \n",
       "13                              Weight of the product  \n",
       "14            Description of contents of the package   \n",
       "15                   The cost of the product in Rands  \n",
       "16  Identifies an individual basket from a user pu...  \n",
       "17               Barcode for item that user purchased  \n",
       "18                      Total value of a transaction   \n",
       "19                  Name of customer purchasing stock  \n",
       "20               Date on which the product was bought  "
      ]
     },
     "execution_count": 160,
     "metadata": {},
     "output_type": "execute_result"
    }
   ],
   "source": [
    "# DO NOT EDIT THIS CELL\n",
    "import pandas as pd\n",
    "data_description = pd.read_excel('Data Description.xlsx')\n",
    "data_description"
   ]
  },
  {
   "cell_type": "markdown",
   "metadata": {
    "id": "bZd01SEagwv7"
   },
   "source": [
    "<a id='Setting_up'></a>\n",
    "### 4. Setting up the database"
   ]
  },
  {
   "cell_type": "code",
   "execution_count": 161,
   "metadata": {},
   "outputs": [],
   "source": [
    "#DO NOT EDIT THIS CELL\n",
    "conn = sqlite3.connect('bhejane.db')\n",
    "cursor = conn.cursor()"
   ]
  },
  {
   "cell_type": "markdown",
   "metadata": {
    "id": "G-WGBpmDgwv-"
   },
   "source": [
    "#### Creating both Products and Transaction Tables"
   ]
  },
  {
   "cell_type": "code",
   "execution_count": 162,
   "metadata": {
    "id": "qp-DQik7gwv-",
    "outputId": "16d1c6b9-fd74-40b1-c8a9-11807656b122"
   },
   "outputs": [
    {
     "name": "stdout",
     "output_type": "stream",
     "text": [
      "Query started at 08:11:58 PM South Africa Standard Time; Query executed in 0.00 m"
     ]
    },
    {
     "data": {
      "text/plain": [
       "<sql_magic.exceptions.EmptyResult at 0x20338aa9e48>"
      ]
     },
     "execution_count": 162,
     "metadata": {},
     "output_type": "execute_result"
    }
   ],
   "source": [
    "%%read_sql\n",
    "--DO NOT EDIT THIS CELL\n",
    "DROP TABLE IF EXISTS \"Products\";\n",
    "DROP TABLE IF EXISTS \"Transactions\";\n",
    "\n",
    "CREATE TABLE \"Products\" (\n",
    "    \"Width\"   REAL,\n",
    "    \"Length\"  REAL,\n",
    "    \"Height\"  REAL,\n",
    "    \"Barcode\" VARCHAR(150) NOT NULL,\n",
    "    \"Quantity\" INTEGER NOT NULL,\n",
    "    \"Brand\" VARCHAR(150), \n",
    "    \"NavigationPath\" VARCHAR(150),\n",
    "    \"Colour\" VARCHAR(150),\n",
    "    \"StockCountry\" VARCHAR(150),\n",
    "    \"ProductDescription\" VARCHAR(150) NOT NULL,\n",
    "    \"PackType\" VARCHAR(150), \n",
    "    \"Volume_litre\" REAL, \n",
    "    \"Warranty\" VARCHAR(150), \n",
    "    \"Weight_kg\" REAL,\n",
    "    \"ItemDescription\" VARCHAR(150), \n",
    "    \"Price\" REAL\n",
    ");\n",
    "\n",
    "\n",
    "CREATE TABLE \"Transactions\" (\n",
    "    \"CartID\" INTEGER,\n",
    "    \"Barcode\" VARCHAR(150), \n",
    "    \"Total\" REAL,\n",
    "    \"UserName\" VARCHAR(150), \n",
    "    \"InvoiceDate\" DATETIME\n",
    ");"
   ]
  },
  {
   "cell_type": "markdown",
   "metadata": {
    "id": "m3W5ah4PgwwG"
   },
   "source": [
    "#### Load Data into Product and Transaction tables"
   ]
  },
  {
   "cell_type": "code",
   "execution_count": 163,
   "metadata": {
    "id": "VW_oEkizgwwH"
   },
   "outputs": [],
   "source": [
    "# DO NOT EDIT CELL\n",
    "# Load data into Product table\n",
    "with open('bhejane_covid_essentials_Products.csv','r') as fin: # `with` statement available in 2.5+\n",
    "    # csv.DictReader uses first line in file for column headings by default\n",
    "    dr = csv.DictReader(fin) # comma is default delimiter\n",
    "    to_db = [(i['Width'],i['Length'],i['Height'], i['Barcode'], i['Quantity'], i['Brand'], i['NavigationPath'], i['Colour'], i['StockCountry'], i['ProductDescription'],i['PackType'],i['Volume_litre'],i['Warranty'],i['Weight_kg'],i[\"ItemDescription\"],i['Price']) for i in dr]\n",
    "\n",
    "cursor.executemany(\"INSERT INTO Products VALUES (?, ?, ?, ?, ?, ?, ?, ?, ?, ?, ?, ?, ?, ?, ?, ?);\", to_db)\n",
    "conn.commit()\n",
    "\n",
    "with open('bhejane_covid_essentials_Transactions.csv','r') as fin: # `with` statement available in 2.5+\n",
    "    # csv.DictReader uses first line in file for column headings by default\n",
    "    dr = csv.DictReader(fin) # comma is default delimiter\n",
    "    to_db = [(i['CartID'],i['Barcode'], i['Total'], i['UserName'], i['InvoiceDate']) for i in dr]\n",
    "\n",
    "cursor.executemany(\"INSERT INTO Transactions VALUES (?, ?, ?, ?, ?);\", to_db)\n",
    "conn.commit()"
   ]
  },
  {
   "cell_type": "markdown",
   "metadata": {
    "id": "uo9PWlZtgwwO"
   },
   "source": [
    "<a id='ERD'></a>\n",
    "### 5. Denormalized Database Tables\n",
    "\n",
    "\n",
    "<br>\n",
    "\n",
    "<img src=\"https://raw.githubusercontent.com/Explore-AI/Pictures/master/SQL4DS/SQL_Predict/Denormalized_Tables.png\" alt=\"Denormalized Tables\" border=\"0\">"
   ]
  },
  {
   "cell_type": "markdown",
   "metadata": {},
   "source": [
    "#### 5.1 Explore the Denormalized Tables\n",
    "Familiarize yourself with the data given in the two tables by writing your own SQL queries to explore properties of the dataset.i.e Look for data inconsistencies, anormalies, redundancies etc to guide your normalization process. \n",
    "\n",
    "This section will not be graded - think of it as your own scratch pad.\n",
    "\n"
   ]
  },
  {
   "cell_type": "code",
   "execution_count": 164,
   "metadata": {
    "scrolled": true
   },
   "outputs": [
    {
     "name": "stdout",
     "output_type": "stream",
     "text": [
      "Query started at 08:12:08 PM South Africa Standard Time; Query executed in 0.00 m"
     ]
    },
    {
     "data": {
      "text/html": [
       "<div>\n",
       "<style scoped>\n",
       "    .dataframe tbody tr th:only-of-type {\n",
       "        vertical-align: middle;\n",
       "    }\n",
       "\n",
       "    .dataframe tbody tr th {\n",
       "        vertical-align: top;\n",
       "    }\n",
       "\n",
       "    .dataframe thead th {\n",
       "        text-align: right;\n",
       "    }\n",
       "</style>\n",
       "<table border=\"1\" class=\"dataframe\">\n",
       "  <thead>\n",
       "    <tr style=\"text-align: right;\">\n",
       "      <th></th>\n",
       "      <th>Barcode</th>\n",
       "      <th>NavigationPath</th>\n",
       "      <th>ItemDescription</th>\n",
       "      <th>ProductDescription</th>\n",
       "      <th>Brand</th>\n",
       "      <th>Price</th>\n",
       "      <th>Quantity</th>\n",
       "      <th>PackType</th>\n",
       "      <th>Warranty</th>\n",
       "      <th>StockCountry</th>\n",
       "      <th>Colour</th>\n",
       "      <th>Weight_kg</th>\n",
       "      <th>Volume_litre</th>\n",
       "      <th>Length</th>\n",
       "      <th>Width</th>\n",
       "      <th>Height</th>\n",
       "    </tr>\n",
       "  </thead>\n",
       "  <tbody>\n",
       "    <tr>\n",
       "      <th>0</th>\n",
       "      <td>300507946</td>\n",
       "      <td>Computers &amp; Tablets / Smart Home &amp; Connected L...</td>\n",
       "      <td>1 x Hikvision 1080P Bullet camera</td>\n",
       "      <td>Hikvision 1080P 2MP Turbo HD IR Bullet Camera</td>\n",
       "      <td>Hikvision</td>\n",
       "      <td>399.0</td>\n",
       "      <td>493</td>\n",
       "      <td></td>\n",
       "      <td>Limited (6 months)</td>\n",
       "      <td></td>\n",
       "      <td></td>\n",
       "      <td></td>\n",
       "      <td>0.0</td>\n",
       "      <td></td>\n",
       "      <td></td>\n",
       "      <td></td>\n",
       "    </tr>\n",
       "    <tr>\n",
       "      <th>1</th>\n",
       "      <td>300507946</td>\n",
       "      <td>Computers &amp; Tablets / Smart Home &amp; Connected L...</td>\n",
       "      <td>Manual</td>\n",
       "      <td>Hikvision 1080P 2MP Turbo HD IR Bullet Camera</td>\n",
       "      <td>Hikvision</td>\n",
       "      <td>399.0</td>\n",
       "      <td>493</td>\n",
       "      <td></td>\n",
       "      <td>Limited (6 months)</td>\n",
       "      <td></td>\n",
       "      <td></td>\n",
       "      <td></td>\n",
       "      <td>0.0</td>\n",
       "      <td></td>\n",
       "      <td></td>\n",
       "      <td></td>\n",
       "    </tr>\n",
       "    <tr>\n",
       "      <th>2</th>\n",
       "      <td>10325354918</td>\n",
       "      <td>Fashion / Accessories / Scarves</td>\n",
       "      <td></td>\n",
       "      <td>ZEE 3-in-1 Unisex Gaiter</td>\n",
       "      <td>ZEE</td>\n",
       "      <td>139.0</td>\n",
       "      <td>467</td>\n",
       "      <td></td>\n",
       "      <td>Limited (6 months)</td>\n",
       "      <td></td>\n",
       "      <td>Grey</td>\n",
       "      <td></td>\n",
       "      <td>0.0</td>\n",
       "      <td></td>\n",
       "      <td></td>\n",
       "      <td></td>\n",
       "    </tr>\n",
       "    <tr>\n",
       "      <th>3</th>\n",
       "      <td>27131187035</td>\n",
       "      <td>Beauty / Luxury Beauty / Makeup / Face / Found...</td>\n",
       "      <td></td>\n",
       "      <td>Estee Lauder Double Wear Stay In Place Makeup</td>\n",
       "      <td>Estee Lauder</td>\n",
       "      <td>655.0</td>\n",
       "      <td>275</td>\n",
       "      <td></td>\n",
       "      <td>Non-Returnable</td>\n",
       "      <td>South Africa</td>\n",
       "      <td>Fresco</td>\n",
       "      <td></td>\n",
       "      <td>0.0</td>\n",
       "      <td></td>\n",
       "      <td></td>\n",
       "      <td></td>\n",
       "    </tr>\n",
       "    <tr>\n",
       "      <th>4</th>\n",
       "      <td>27131187035</td>\n",
       "      <td>Beauty / Luxury Beauty / Shop By Brand / Estee...</td>\n",
       "      <td></td>\n",
       "      <td>Estee Lauder Double Wear Stay In Place Makeup</td>\n",
       "      <td>Estee Lauder</td>\n",
       "      <td>655.0</td>\n",
       "      <td>275</td>\n",
       "      <td></td>\n",
       "      <td>Non-Returnable</td>\n",
       "      <td>South Africa</td>\n",
       "      <td>Fresco</td>\n",
       "      <td></td>\n",
       "      <td>0.0</td>\n",
       "      <td></td>\n",
       "      <td></td>\n",
       "      <td></td>\n",
       "    </tr>\n",
       "    <tr>\n",
       "      <th>5</th>\n",
       "      <td>27131187035</td>\n",
       "      <td>Beauty / Makeup / Face / Foundation</td>\n",
       "      <td></td>\n",
       "      <td>Estee Lauder Double Wear Stay In Place Makeup</td>\n",
       "      <td>Estee Lauder</td>\n",
       "      <td>655.0</td>\n",
       "      <td>275</td>\n",
       "      <td></td>\n",
       "      <td>Non-Returnable</td>\n",
       "      <td>South Africa</td>\n",
       "      <td>Fresco</td>\n",
       "      <td></td>\n",
       "      <td>0.0</td>\n",
       "      <td></td>\n",
       "      <td></td>\n",
       "      <td></td>\n",
       "    </tr>\n",
       "    <tr>\n",
       "      <th>6</th>\n",
       "      <td>39800085139</td>\n",
       "      <td>Cameras / Cameras &amp; Lenses / Camera Accessorie...</td>\n",
       "      <td></td>\n",
       "      <td>Energizer 3V CR2450 Lithium Coin Battery</td>\n",
       "      <td>Energizer</td>\n",
       "      <td>49.0</td>\n",
       "      <td>247</td>\n",
       "      <td></td>\n",
       "      <td>Limited (12 months)</td>\n",
       "      <td>South Africa</td>\n",
       "      <td></td>\n",
       "      <td></td>\n",
       "      <td>0.0</td>\n",
       "      <td></td>\n",
       "      <td></td>\n",
       "      <td></td>\n",
       "    </tr>\n",
       "    <tr>\n",
       "      <th>7</th>\n",
       "      <td>43859499182</td>\n",
       "      <td>Office &amp; Stationery / Stationery / Office Supp...</td>\n",
       "      <td>1 x 350ml Free Air Duster</td>\n",
       "      <td>Fellowes HFC Free Air Duster - 350ml</td>\n",
       "      <td>Fellowes</td>\n",
       "      <td>149.0</td>\n",
       "      <td>386</td>\n",
       "      <td></td>\n",
       "      <td>Limited (6 months)</td>\n",
       "      <td>South Africa</td>\n",
       "      <td></td>\n",
       "      <td></td>\n",
       "      <td>0.0</td>\n",
       "      <td></td>\n",
       "      <td></td>\n",
       "      <td></td>\n",
       "    </tr>\n",
       "    <tr>\n",
       "      <th>8</th>\n",
       "      <td>43917915548</td>\n",
       "      <td>Health / Personal Care / Shaving &amp; Hair Remova...</td>\n",
       "      <td>Wahl Home Pro Basic Corded 8 Piece Haircutting...</td>\n",
       "      <td>Wahl Home Pro Basic Corded 8 Piece Haircutting...</td>\n",
       "      <td>WAHL</td>\n",
       "      <td>149.0</td>\n",
       "      <td>338</td>\n",
       "      <td></td>\n",
       "      <td>Limited (6 months)</td>\n",
       "      <td>South Africa</td>\n",
       "      <td></td>\n",
       "      <td></td>\n",
       "      <td>0.0</td>\n",
       "      <td></td>\n",
       "      <td></td>\n",
       "      <td></td>\n",
       "    </tr>\n",
       "    <tr>\n",
       "      <th>9</th>\n",
       "      <td>43917915548</td>\n",
       "      <td>Health / Personal Care / Shaving &amp; Hair Remova...</td>\n",
       "      <td>Wahl Home Pro Basic Corded 8 Piece Haircutting...</td>\n",
       "      <td>Wahl Home Pro Basic Corded 8 Piece Haircutting...</td>\n",
       "      <td>WAHL</td>\n",
       "      <td>149.0</td>\n",
       "      <td>338</td>\n",
       "      <td></td>\n",
       "      <td>Limited (6 months)</td>\n",
       "      <td>South Africa</td>\n",
       "      <td></td>\n",
       "      <td></td>\n",
       "      <td>0.0</td>\n",
       "      <td></td>\n",
       "      <td></td>\n",
       "      <td></td>\n",
       "    </tr>\n",
       "  </tbody>\n",
       "</table>\n",
       "</div>"
      ],
      "text/plain": [
       "       Barcode                                     NavigationPath  \\\n",
       "0    300507946  Computers & Tablets / Smart Home & Connected L...   \n",
       "1    300507946  Computers & Tablets / Smart Home & Connected L...   \n",
       "2  10325354918                    Fashion / Accessories / Scarves   \n",
       "3  27131187035  Beauty / Luxury Beauty / Makeup / Face / Found...   \n",
       "4  27131187035  Beauty / Luxury Beauty / Shop By Brand / Estee...   \n",
       "5  27131187035                Beauty / Makeup / Face / Foundation   \n",
       "6  39800085139  Cameras / Cameras & Lenses / Camera Accessorie...   \n",
       "7  43859499182  Office & Stationery / Stationery / Office Supp...   \n",
       "8  43917915548  Health / Personal Care / Shaving & Hair Remova...   \n",
       "9  43917915548  Health / Personal Care / Shaving & Hair Remova...   \n",
       "\n",
       "                                     ItemDescription  \\\n",
       "0                  1 x Hikvision 1080P Bullet camera   \n",
       "1                                             Manual   \n",
       "2                                                      \n",
       "3                                                      \n",
       "4                                                      \n",
       "5                                                      \n",
       "6                                                      \n",
       "7                          1 x 350ml Free Air Duster   \n",
       "8  Wahl Home Pro Basic Corded 8 Piece Haircutting...   \n",
       "9  Wahl Home Pro Basic Corded 8 Piece Haircutting...   \n",
       "\n",
       "                                  ProductDescription         Brand  Price  \\\n",
       "0      Hikvision 1080P 2MP Turbo HD IR Bullet Camera     Hikvision  399.0   \n",
       "1      Hikvision 1080P 2MP Turbo HD IR Bullet Camera     Hikvision  399.0   \n",
       "2                           ZEE 3-in-1 Unisex Gaiter           ZEE  139.0   \n",
       "3      Estee Lauder Double Wear Stay In Place Makeup  Estee Lauder  655.0   \n",
       "4      Estee Lauder Double Wear Stay In Place Makeup  Estee Lauder  655.0   \n",
       "5      Estee Lauder Double Wear Stay In Place Makeup  Estee Lauder  655.0   \n",
       "6           Energizer 3V CR2450 Lithium Coin Battery     Energizer   49.0   \n",
       "7               Fellowes HFC Free Air Duster - 350ml      Fellowes  149.0   \n",
       "8  Wahl Home Pro Basic Corded 8 Piece Haircutting...          WAHL  149.0   \n",
       "9  Wahl Home Pro Basic Corded 8 Piece Haircutting...          WAHL  149.0   \n",
       "\n",
       "   Quantity PackType             Warranty  StockCountry  Colour Weight_kg  \\\n",
       "0       493            Limited (6 months)                                   \n",
       "1       493            Limited (6 months)                                   \n",
       "2       467            Limited (6 months)                  Grey             \n",
       "3       275                Non-Returnable  South Africa  Fresco             \n",
       "4       275                Non-Returnable  South Africa  Fresco             \n",
       "5       275                Non-Returnable  South Africa  Fresco             \n",
       "6       247           Limited (12 months)  South Africa                     \n",
       "7       386            Limited (6 months)  South Africa                     \n",
       "8       338            Limited (6 months)  South Africa                     \n",
       "9       338            Limited (6 months)  South Africa                     \n",
       "\n",
       "   Volume_litre Length Width Height  \n",
       "0           0.0                      \n",
       "1           0.0                      \n",
       "2           0.0                      \n",
       "3           0.0                      \n",
       "4           0.0                      \n",
       "5           0.0                      \n",
       "6           0.0                      \n",
       "7           0.0                      \n",
       "8           0.0                      \n",
       "9           0.0                      "
      ]
     },
     "execution_count": 164,
     "metadata": {},
     "output_type": "execute_result"
    }
   ],
   "source": [
    "%%read_sql\n",
    "-- #Use this section to explore the database by writing your own queries\n",
    "--Checking for any primary keys in any of the tables\n",
    "\n",
    "--PRAGMA table_info(Products);\n",
    "\n",
    "SELECT *\n",
    "FROM Products_1NF\n",
    "LIMIT 10;"
   ]
  },
  {
   "cell_type": "markdown",
   "metadata": {},
   "source": [
    "### 6. Normalize the given Database tables to the 1st Normal Form (1NF)\n",
    "\n",
    "Given the below below target ERD create new tables such the the database conforms to the 1st Normal Form\n",
    "\n",
    "<img src=\"https://raw.githubusercontent.com/Explore-AI/Pictures/master/SQL4DS/SQL_Predict/1NF.png\" alt=\"1st Normal Form ERD\" border=\"0\">\n",
    "\n",
    "It is suggested that you create all your tables before attempting to populate them with data, this will help reduce errors that might creep up due to logical dependencies."
   ]
  },
  {
   "cell_type": "markdown",
   "metadata": {},
   "source": [
    "#### 6.1 Create the tables required for the 1st Normal Form\n",
    "Use the above ERD sketch to create the required tables. Please label your tables as they appear in the ERD sketch"
   ]
  },
  {
   "cell_type": "code",
   "execution_count": 165,
   "metadata": {},
   "outputs": [
    {
     "name": "stdout",
     "output_type": "stream",
     "text": [
      "Query started at 08:12:19 PM South Africa Standard Time; Query executed in 0.00 m"
     ]
    },
    {
     "data": {
      "text/plain": [
       "<sql_magic.exceptions.EmptyResult at 0x20338aa4688>"
      ]
     },
     "execution_count": 165,
     "metadata": {},
     "output_type": "execute_result"
    }
   ],
   "source": [
    "%%read_sql\n",
    "--#Create tables required for 1NF\n",
    "\n",
    "DROP TABLE IF EXISTS \"Products_1NF\";\n",
    "DROP TABLE IF EXISTS \"Transactions_1NF\";\n",
    "\n",
    "CREATE TABLE \"Products_1NF\" (\n",
    "    \"Barcode\" VARCHAR(150) NOT NULL,\n",
    "    \"NavigationPath\" VARCHAR(150) NOT NULL,\n",
    "    \"ItemDescription\" VARCHAR(150) NOT NULL, \n",
    "    \"ProductDescription\" VARCHAR(150) NOT NULL,\n",
    "    \"Brand\" VARCHAR(150),\n",
    "    \"Price\" REAL NOT NULL,\n",
    "    \"Quantity\" INTEGER NOT NULL,\n",
    "    \"PackType\" VARCHAR(150),\n",
    "    \"Warranty\" VARCHAR(150), \n",
    "    \"StockCountry\" VARCHAR(150),\n",
    "    \"Colour\" VARCHAR(150),\n",
    "    \"Weight_kg\" REAL,\n",
    "    \"Volume_litre\" REAL,\n",
    "    \"Length\"  REAL,\n",
    "    \"Width\"   REAL,\n",
    "    \"Height\"  REAL,\n",
    "    FOREIGN KEY (\"Barcode\") REFERENCES Transactions_1NF(\"Barcode\")\n",
    "    PRIMARY KEY (\"Barcode\", \"NavigationPath\", \"ItemDescription\")\n",
    "\n",
    "\n",
    "\n",
    "   \n",
    ");\n",
    "\n",
    "\n",
    "CREATE TABLE \"Transactions_1NF\" (\n",
    "    \"CartID\" INTEGER NOT NULL,\n",
    "    \"Barcode\" VARCHAR(150) NOT NULL, \n",
    "    \"UserName\" VARCHAR(150) NOT NULL, \n",
    "    \"InvoiceDate\" DATETIME NOT NULL,\n",
    "    \"Total\" REAL NOT NULL,\n",
    "    PRIMARY KEY (\"CartID\", \"Barcode\")\n",
    ");\n"
   ]
  },
  {
   "cell_type": "code",
   "execution_count": 166,
   "metadata": {},
   "outputs": [],
   "source": [
    "# DO NOT EDIT CELL\n",
    "# Load data into Product table\n",
    "with open('bhejane_covid_essentials_Products.csv','r') as fin: # `with` statement available in 2.5+\n",
    "    # csv.DictReader uses first line in file for column headings by default\n",
    "    dr = csv.DictReader(fin) # comma is default delimiter\n",
    "    to_db = [(i['Barcode'],i['NavigationPath'],i['ItemDescription'], i['ProductDescription'], i['Brand'], i['Price'], i['Quantity'], i['PackType'], i['Warranty'], i['StockCountry'],i['Colour'],i['Weight_kg'],i['Volume_litre'],i['Length'],i['Width'],i['Height']) for i in dr]\n",
    "\n",
    "cursor.executemany(\"INSERT INTO Products_1NF VALUES (?, ?, ?, ?, ?, ?, ?, ?, ?, ?, ?, ?, ?, ?, ?, ?);\", to_db)\n",
    "conn.commit()\n",
    "\n",
    "with open('bhejane_covid_essentials_Transactions.csv','r') as fin: # `with` statement available in 2.5+\n",
    "    # csv.DictReader uses first line in file for column headings by default\n",
    "    dr = csv.DictReader(fin) # comma is default delimiter\n",
    "    to_db = [(i['CartID'],i['Barcode'], i['UserName'], i['InvoiceDate'], i['Total']) for i in dr]\n",
    "\n",
    "cursor.executemany(\"INSERT INTO Transactions_1NF VALUES (?, ?, ?, ?, ?);\", to_db)\n",
    "conn.commit()\n",
    "  "
   ]
  },
  {
   "cell_type": "markdown",
   "metadata": {},
   "source": [
    "#### 6.2 Populate the tables you have create in the above section.\n",
    "\n",
    "Populate the tables such that the database conforms to the 1st Normal Form"
   ]
  },
  {
   "cell_type": "markdown",
   "metadata": {},
   "source": [
    "###  7. Convert the database into its 2nd Normal Form (2NF).\n",
    "\n",
    "Please label your tables as they appear in the ERD sketch.\n",
    "\n",
    "<img src=\"https://raw.githubusercontent.com/Explore-AI/Pictures/master/SQL4DS/SQL_Predict/2NF.png\" alt=\"2nd Normal Form ERD\" border=\"0\">"
   ]
  },
  {
   "cell_type": "code",
   "execution_count": 167,
   "metadata": {},
   "outputs": [
    {
     "name": "stdout",
     "output_type": "stream",
     "text": [
      "Query started at 08:12:35 PM South Africa Standard Time; Query executed in 0.00 m"
     ]
    },
    {
     "data": {
      "text/plain": [
       "<sql_magic.exceptions.EmptyResult at 0x20338ae8888>"
      ]
     },
     "execution_count": 167,
     "metadata": {},
     "output_type": "execute_result"
    }
   ],
   "source": [
    "%%read_sql\n",
    "--#Create tables required for 2NF\n",
    "\n",
    "DROP TABLE IF EXISTS  Products_2NF;\n",
    "DROP TABLE IF EXISTS  Transactions_2NF;\n",
    "DROP TABLE IF EXISTS  Navigation_2NF;\n",
    "DROP TABLE IF EXISTS  PackageContents_2NF;\n",
    "DROP TABLE IF EXISTS  Colours_2NF;\n",
    "\n",
    "CREATE TABLE Transactions_2NF (\n",
    "     CartID INTEGER NOT NULL,\n",
    "     Barcode VARCHAR(150) NOT NULL, \n",
    "     UserName VARCHAR(150) NOT NULL, \n",
    "     InvoiceDate DATETIME NOT NULL,\n",
    "     Total REAL NOT NULL,\n",
    "     PRIMARY KEY(CartID, Barcode)\n",
    ");\n",
    "\n",
    "\n",
    "CREATE TABLE Navigation_2NF (\n",
    "     PathID INTEGER NOT NULL,\n",
    "     NavigationPath VARCHAR(150),\n",
    "     PRIMARY KEY(PathID AUTOINCREMENT)\n",
    "   \n",
    ");\n",
    "\n",
    "\n",
    "CREATE TABLE  PackageContents_2NF (\n",
    "     ItemID INTEGER NOT NULL,\n",
    "     ItemDescription VARCHAR(150), \n",
    "     PackType VARCHAR(150), \n",
    "     Warranty VARCHAR(150),\n",
    "     PRIMARY KEY(ItemID AUTOINCREMENT)\n",
    "   \n",
    "    \n",
    ");\n",
    "\n",
    "\n",
    "CREATE TABLE Colours_2NF (\n",
    "     ColourID INTEGER NOT NULL,\n",
    "     Colour VARCHAR(150),\n",
    "     PRIMARY KEY(ColourID AUTOINCREMENT)\n",
    "\n",
    "    \n",
    ");\n",
    "\n",
    "CREATE TABLE  Products_2NF (\n",
    "     RegistryID INTEGER NOT NULL,\n",
    "     Barcode VARCHAR(150) NOT NULL, \n",
    "     ProductDescription VARCHAR(150) NOT NULL, \n",
    "     Brand VARCHAR(150), \n",
    "     Price REAL NOT NULL, \n",
    "     Quantity INTEGER NOT NULL, \n",
    "     StockCountry VARCHAR(150), \n",
    "     Weight_kg REAL, \n",
    "     Volume_litre REAL, \n",
    "     Length REAL, \n",
    "     Width REAL, \n",
    "     Height REAL,\n",
    "     PathID INTEGER NOT NULL,\n",
    "     ItemID INTEGER NOT NULL,\n",
    "     ColourID INTEGER NOT NULL,\n",
    "     FOREIGN KEY (Barcode) REFERENCES Transactions_2NF(Barcode),\n",
    "     FOREIGN KEY (PathID) REFERENCES Navigation_2NF(PathID),\n",
    "     FOREIGN KEY (ItemID) REFERENCES PackageContents_2NF(ItemID),\n",
    "     FOREIGN KEY (ColourID) REFERENCES Colours_2NF(ColourID),\n",
    "     PRIMARY KEY (RegistryID AUTOINCREMENT)\n",
    "  \n",
    ");\n",
    "\n",
    "\n"
   ]
  },
  {
   "cell_type": "code",
   "execution_count": 168,
   "metadata": {},
   "outputs": [
    {
     "name": "stdout",
     "output_type": "stream",
     "text": [
      "Query started at 08:12:42 PM South Africa Standard Time; Query executed in 0.00 m"
     ]
    },
    {
     "data": {
      "text/plain": [
       "<sql_magic.exceptions.EmptyResult at 0x20338ad5748>"
      ]
     },
     "execution_count": 168,
     "metadata": {},
     "output_type": "execute_result"
    }
   ],
   "source": [
    "%%read_sql\n",
    "\n",
    "DELETE FROM Colours_2NF;\n",
    "DELETE FROM Navigation_2NF;\n",
    "DELETE FROM PackageContents_2NF;\n",
    "DELETE FROM Transactions_2NF;\n",
    "DELETE FROM Products_2NF;\n",
    "\n",
    "INSERT INTO Colours_2NF (Colour)\n",
    "SELECT DISTINCT Colour\n",
    "FROM Products_1NF\n",
    ";\n",
    "\n",
    "INSERT INTO Navigation_2NF (NavigationPath)\n",
    "SELECT DISTINCT NavigationPath\n",
    "FROM Products_1NF\n",
    ";\n",
    "\n",
    "INSERT INTO PackageContents_2NF (ItemDescription, Warranty, PackType)\n",
    "SELECT DISTINCT ItemDescription, Warranty, PackType\n",
    "FROM Products_1NF\n",
    ";\n",
    "\n",
    "\n",
    "INSERT INTO Transactions_2NF (UserName, InvoiceDate, Total, Barcode, CartID)\n",
    "SELECT DISTINCT UserName, InvoiceDate, Total, Barcode, CartID\n",
    "FROM Transactions_1NF\n",
    ";\n",
    "\n",
    "\n"
   ]
  },
  {
   "cell_type": "code",
   "execution_count": 169,
   "metadata": {},
   "outputs": [
    {
     "name": "stdout",
     "output_type": "stream",
     "text": [
      "Query started at 08:12:47 PM South Africa Standard Time; Query executed in 0.00 m"
     ]
    },
    {
     "data": {
      "text/plain": [
       "<sql_magic.exceptions.EmptyResult at 0x20338ae8a88>"
      ]
     },
     "execution_count": 169,
     "metadata": {},
     "output_type": "execute_result"
    }
   ],
   "source": [
    "%%read_sql\n",
    "--I am trying to insert the products in a different cell because its crammed in the previous cell\n",
    "\n",
    "DELETE FROM Products_2NF;\n",
    "\n",
    "INSERT INTO Products_2NF (Barcode, ProductDescription, Brand, Price, Quantity, StockCountry, Weight_kg, Volume_litre, Length, Width, Height, PathID, ItemID, ColourID)\n",
    "SELECT DISTINCT P1NF.Barcode, P1NF.ProductDescription, P1NF.Brand, P1NF.Price, P1NF.Quantity, P1NF.StockCountry, P1NF.Weight_kg, P1NF.Volume_litre, P1NF.Length, P1NF.Width, P1NF.Height, N2NF.PathID, PC2NF.ItemID, C3NF.ColourID\n",
    "FROM Products_1NF AS P1NF\n",
    "JOIN Navigation_2NF AS N2NF\n",
    "ON P1NF.NavigationPath = N2NF.NavigationPath\n",
    "JOIN PackageContents_2NF AS PC2NF\n",
    "ON P1NF.ItemDescription = PC2NF.ItemDescription AND P1NF.Warranty = PC2NF.Warranty AND P1NF.PackType = PC2NF.PackType\n",
    "JOIN Colours_3NF AS C3NF\n",
    "ON P1NF.Colour = C3NF.Colour\n",
    "\n",
    "\n",
    ";"
   ]
  },
  {
   "cell_type": "markdown",
   "metadata": {
    "id": "2BXpm06CgwwO"
   },
   "source": [
    "<a id='Target_ERD'></a>\n",
    "### 8. Convert the table into its 3rd Normal Form (3NF)\n",
    "\n",
    "Please label your tables as they appear in the ERD sketch\n",
    "\n",
    "<br>\n",
    "\n",
    "<img src=\"https://raw.githubusercontent.com/Explore-AI/Pictures/master/SQL4DS/SQL_Predict/3NF.png\" alt=\"3rd Normal Form ERD\" border=\"0\"></a>"
   ]
  },
  {
   "cell_type": "code",
   "execution_count": 170,
   "metadata": {
    "id": "nSceV8iQgwwP",
    "outputId": "8f243bda-2032-4c7b-9c58-e6110cdb9505"
   },
   "outputs": [
    {
     "name": "stdout",
     "output_type": "stream",
     "text": [
      "Query started at 08:13:04 PM South Africa Standard Time; Query executed in 0.00 m"
     ]
    },
    {
     "data": {
      "text/plain": [
       "<sql_magic.exceptions.EmptyResult at 0x203383f3488>"
      ]
     },
     "execution_count": 170,
     "metadata": {},
     "output_type": "execute_result"
    }
   ],
   "source": [
    "%%read_sql\n",
    "\n",
    "DROP TABLE IF EXISTS Colours_3NF;\n",
    "DROP TABLE IF EXISTS Navigation_3NF;\n",
    "DROP TABLE IF EXISTS PackageContents_3NF;\n",
    "DROP TABLE IF EXISTS Transactions_3NF;\n",
    "DROP TABLE IF EXISTS Products_3NF;\n",
    "DROP TABLE IF EXISTS Users_3NF;\n",
    "DROP TABLE IF EXISTS Brands_3NF;\n",
    "DROP TABLE IF EXISTS Locations_3NF;\n",
    "\n",
    "\n",
    "CREATE TABLE Colours_3NF AS\n",
    "SELECT * FROM Colours_2NF;\n",
    "\n",
    "CREATE TABLE Navigation_3NF AS\n",
    "SELECT * FROM Navigation_2NF;\n",
    "\n",
    "CREATE TABLE PackageContents_3NF AS\n",
    "SELECT * FROM PackageContents_2NF;\n",
    "\n",
    "CREATE TABLE Transactions_3NF (\n",
    "    \n",
    "     CartID INTEGER NOT NULL,\n",
    "     Barcode VARCHAR(150) NOT NULL,\n",
    "     UserID INTEGER NOT NULL,\n",
    "     InvoiceDate DATETIME NOT NULL,\n",
    "     Total REAL NOT NULL,\n",
    "     FOREIGN KEY (UserID) REFERENCES Users_3NF(UserID),\n",
    "     PRIMARY KEY (CartID, Barcode)\n",
    ");\n",
    "\n",
    "CREATE TABLE Products_3NF (\n",
    "    \n",
    "     RegistryID INTEGER NOT NULL,\n",
    "     Barcode VARCHAR(150) NOT NULL,\n",
    "     ProductDescription VARCHAR(150) NOT NULL,\n",
    "     Price REAL NOT NULL,\n",
    "     Quantity INTEGER NOT NULL,\n",
    "     Weight_kg REAL,\n",
    "     Volume_litre REAL,\n",
    "     Length REAL,\n",
    "     Width REAL,\n",
    "     Height REAL,\n",
    "     PathID INTEGER,\n",
    "     ItemID INTEGER,\n",
    "     ColourID INTEGER,\n",
    "     BrandID INTEGER,\n",
    "     LocationID INTEGER,\n",
    "     FOREIGN KEY (Barcode) REFERENCES Transactions_3NF(Barcode),\n",
    "     FOREIGN KEY (PathID) REFERENCES Navigation_3NF(PathID),\n",
    "     FOREIGN KEY (ItemID) REFERENCES PackageContents_3NF(ItemID),\n",
    "     FOREIGN KEY (ColourID) REFERENCES Colours_3NF(ColourID),\n",
    "     FOREIGN KEY (BrandID) REFERENCES Brands_3NF(BrandID),\n",
    "     FOREIGN KEY (LocationID) REFERENCES Locations_3NF(LocationID),\n",
    "     PRIMARY KEY (RegistryID AUTOINCREMENT)\n",
    "    \n",
    ");\n",
    "\n",
    "CREATE TABLE Users_3NF (\n",
    "    UserID INTEGER NOT NULL,\n",
    "    UserName VARCHAR(150) NOT NULL,\n",
    "    PRIMARY KEY(UserID AUTOINCREMENT)\n",
    "\n",
    ");\n",
    "\n",
    "\n",
    "CREATE TABLE Brands_3NF (\n",
    "    BrandID INTEGER NOT NULL,\n",
    "    Brand VARCHAR(150),\n",
    "    PRIMARY KEY(BrandID AUTOINCREMENT)\n",
    "\n",
    ");\n",
    "\n",
    "\n",
    "CREATE TABLE Locations_3NF (\n",
    "    LocationID INTEGER NOT NULL,\n",
    "    StockCountry VARCHAR(150),\n",
    "    PRIMARY KEY(LocationID AUTOINCREMENT)\n",
    "\n",
    ");"
   ]
  },
  {
   "cell_type": "code",
   "execution_count": 171,
   "metadata": {
    "id": "j-neINIfgwwS",
    "outputId": "1404360c-952a-41f6-9b72-56e67f731fbd"
   },
   "outputs": [
    {
     "name": "stdout",
     "output_type": "stream",
     "text": [
      "Query started at 08:13:08 PM South Africa Standard Time; Query executed in 0.00 m"
     ]
    },
    {
     "data": {
      "text/plain": [
       "<sql_magic.exceptions.EmptyResult at 0x203387c15c8>"
      ]
     },
     "execution_count": 171,
     "metadata": {},
     "output_type": "execute_result"
    }
   ],
   "source": [
    "%%read_sql\n",
    "\n",
    "DELETE FROM Products_3NF;\n",
    "DELETE FROM Locations_3NF;\n",
    "DELETE FROM Users_3NF;\n",
    "DELETE FROM Brands_3NF;\n",
    "DELETE FROM Transactions_3NF;\n",
    "\n",
    "INSERT INTO Locations_3NF (StockCountry)\n",
    "SELECT DISTINCT\n",
    "    StockCountry\n",
    "FROM Products_2NF\n",
    ";\n",
    "\n",
    "INSERT INTO Brands_3NF (Brand)\n",
    "SELECT DISTINCT\n",
    "    Brand\n",
    "FROM Products_2NF\n",
    ";\n",
    "\n",
    "INSERT INTO Users_3NF (UserName)\n",
    "SELECT DISTINCT\n",
    "    UserName\n",
    "FROM Transactions_2NF\n",
    ";\n",
    "\n",
    "INSERT INTO Transactions_3NF (Barcode, CartID, InvoiceDate, Total, UserID)\n",
    "SELECT DISTINCT T2NF.Barcode, T2NF.CartID, T2NF.InvoiceDate, T2NF.Total, U3NF.UserID\n",
    "FROM Transactions_2NF AS T2NF\n",
    "JOIN Users_3NF AS U3NF\n",
    "ON U3NF.UserName = T2NF.UserName\n",
    "WHERE Barcode <>'' AND CartID <>'' AND InvoiceDate <>'' AND Total <>'' AND UserID <>'';\n",
    "\n",
    "\n"
   ]
  },
  {
   "cell_type": "code",
   "execution_count": 172,
   "metadata": {},
   "outputs": [
    {
     "name": "stdout",
     "output_type": "stream",
     "text": [
      "Query started at 08:13:14 PM South Africa Standard Time; Query executed in 0.00 m"
     ]
    },
    {
     "data": {
      "text/plain": [
       "<sql_magic.exceptions.EmptyResult at 0x203383fc208>"
      ]
     },
     "execution_count": 172,
     "metadata": {},
     "output_type": "execute_result"
    }
   ],
   "source": [
    "%%read_sql\n",
    "--I am trying to insert the products in a different cell because its crammed in the previous cell\n",
    "\n",
    "DELETE FROM Products_3NF;\n",
    "\n",
    "INSERT INTO Products_3NF (Barcode, ProductDescription, Price, Quantity, Weight_kg, Volume_litre, Length, Width, Height, PathID, ItemID, ColourID, BrandID, LocationID)\n",
    "SELECT DISTINCT P2NF.Barcode, P2NF.ProductDescription, P2NF.Price, P2NF.Quantity, P2NF.Weight_kg, P2NF.Volume_litre, P2NF.Length, P2NF.Width, P2NF.Height, P2NF.PathID, P2NF.ItemID, P2NF.ColourID, B3NF.Brand, L3NF.LocationID\n",
    "FROM Products_2NF AS P2NF\n",
    "JOIN Brands_3NF AS B3NF\n",
    "ON P2NF.Brand = B3NF.Brand\n",
    "JOIN Locations_3NF AS L3NF\n",
    "ON P2NF.StockCountry = L3NF.StockCountry\n",
    "\n",
    "\n"
   ]
  },
  {
   "cell_type": "markdown",
   "metadata": {
    "id": "zMvJZFQsGE03"
   },
   "source": [
    "<a id='MCQ_questions'></a>\n",
    "## 9. MCQ Questions\n",
    "\n",
    "Having completed the normalisation of the database, you may use the following cells to help you answer the MCQs for the predict. "
   ]
  },
  {
   "cell_type": "markdown",
   "metadata": {
    "id": "hEVNjuirGE03"
   },
   "source": [
    "Q1) How many unique products does the company have?"
   ]
  },
  {
   "cell_type": "code",
   "execution_count": 177,
   "metadata": {
    "id": "y3hoYpGxGE03"
   },
   "outputs": [
    {
     "name": "stdout",
     "output_type": "stream",
     "text": [
      "Query started at 08:13:57 PM South Africa Standard Time; Query executed in 0.00 m"
     ]
    },
    {
     "data": {
      "text/html": [
       "<div>\n",
       "<style scoped>\n",
       "    .dataframe tbody tr th:only-of-type {\n",
       "        vertical-align: middle;\n",
       "    }\n",
       "\n",
       "    .dataframe tbody tr th {\n",
       "        vertical-align: top;\n",
       "    }\n",
       "\n",
       "    .dataframe thead th {\n",
       "        text-align: right;\n",
       "    }\n",
       "</style>\n",
       "<table border=\"1\" class=\"dataframe\">\n",
       "  <thead>\n",
       "    <tr style=\"text-align: right;\">\n",
       "      <th></th>\n",
       "      <th>COUNT(DISTINCT(Barcode))</th>\n",
       "    </tr>\n",
       "  </thead>\n",
       "  <tbody>\n",
       "    <tr>\n",
       "      <th>0</th>\n",
       "      <td>608</td>\n",
       "    </tr>\n",
       "  </tbody>\n",
       "</table>\n",
       "</div>"
      ],
      "text/plain": [
       "   COUNT(DISTINCT(Barcode))\n",
       "0                       608"
      ]
     },
     "execution_count": 177,
     "metadata": {},
     "output_type": "execute_result"
    }
   ],
   "source": [
    "%%read_sql\n",
    "\n",
    "SELECT COUNT(DISTINCT(Barcode))\n",
    "FROM Products_3NF"
   ]
  },
  {
   "cell_type": "markdown",
   "metadata": {
    "id": "WsQZQ8tuGE03"
   },
   "source": [
    "Q2) How many users bought from Bhejane in April 2020?"
   ]
  },
  {
   "cell_type": "code",
   "execution_count": 178,
   "metadata": {
    "id": "hFz7XUw_GE04"
   },
   "outputs": [
    {
     "name": "stdout",
     "output_type": "stream",
     "text": [
      "Query started at 08:14:02 PM South Africa Standard Time; Query executed in 0.00 m"
     ]
    },
    {
     "data": {
      "text/html": [
       "<div>\n",
       "<style scoped>\n",
       "    .dataframe tbody tr th:only-of-type {\n",
       "        vertical-align: middle;\n",
       "    }\n",
       "\n",
       "    .dataframe tbody tr th {\n",
       "        vertical-align: top;\n",
       "    }\n",
       "\n",
       "    .dataframe thead th {\n",
       "        text-align: right;\n",
       "    }\n",
       "</style>\n",
       "<table border=\"1\" class=\"dataframe\">\n",
       "  <thead>\n",
       "    <tr style=\"text-align: right;\">\n",
       "      <th></th>\n",
       "      <th>COUNT(DISTINCT(UserID))</th>\n",
       "    </tr>\n",
       "  </thead>\n",
       "  <tbody>\n",
       "    <tr>\n",
       "      <th>0</th>\n",
       "      <td>30</td>\n",
       "    </tr>\n",
       "  </tbody>\n",
       "</table>\n",
       "</div>"
      ],
      "text/plain": [
       "   COUNT(DISTINCT(UserID))\n",
       "0                       30"
      ]
     },
     "execution_count": 178,
     "metadata": {},
     "output_type": "execute_result"
    }
   ],
   "source": [
    "%%read_sql\n",
    "\n",
    "SELECT COUNT(DISTINCT(UserID))\n",
    "FROM Transactions_3NF\n",
    "WHERE InvoiceDate BETWEEN '2020-04-01' AND '2020-04-30'\n",
    "\n"
   ]
  },
  {
   "cell_type": "markdown",
   "metadata": {
    "id": "iBRifthWGE04"
   },
   "source": [
    "Q3) How many users bought three or more items whose combined total was more than R1000 in a single transaction?"
   ]
  },
  {
   "cell_type": "code",
   "execution_count": 179,
   "metadata": {
    "id": "NURR7Ue9GE04"
   },
   "outputs": [
    {
     "name": "stdout",
     "output_type": "stream",
     "text": [
      "Query started at 08:14:08 PM South Africa Standard Time; Query executed in 0.00 m"
     ]
    },
    {
     "data": {
      "text/html": [
       "<div>\n",
       "<style scoped>\n",
       "    .dataframe tbody tr th:only-of-type {\n",
       "        vertical-align: middle;\n",
       "    }\n",
       "\n",
       "    .dataframe tbody tr th {\n",
       "        vertical-align: top;\n",
       "    }\n",
       "\n",
       "    .dataframe thead th {\n",
       "        text-align: right;\n",
       "    }\n",
       "</style>\n",
       "<table border=\"1\" class=\"dataframe\">\n",
       "  <thead>\n",
       "    <tr style=\"text-align: right;\">\n",
       "      <th></th>\n",
       "      <th>COUNT(CartID)</th>\n",
       "      <th>Total</th>\n",
       "      <th>Barcode</th>\n",
       "      <th>CartID</th>\n",
       "      <th>UserID</th>\n",
       "    </tr>\n",
       "  </thead>\n",
       "  <tbody>\n",
       "    <tr>\n",
       "      <th>0</th>\n",
       "      <td>4</td>\n",
       "      <td>3301.0</td>\n",
       "      <td>619659097318</td>\n",
       "      <td>136</td>\n",
       "      <td>5</td>\n",
       "    </tr>\n",
       "    <tr>\n",
       "      <th>1</th>\n",
       "      <td>4</td>\n",
       "      <td>1716.0</td>\n",
       "      <td>834266002368</td>\n",
       "      <td>115</td>\n",
       "      <td>15</td>\n",
       "    </tr>\n",
       "    <tr>\n",
       "      <th>2</th>\n",
       "      <td>4</td>\n",
       "      <td>1523.0</td>\n",
       "      <td>300507946</td>\n",
       "      <td>102</td>\n",
       "      <td>1</td>\n",
       "    </tr>\n",
       "    <tr>\n",
       "      <th>3</th>\n",
       "      <td>4</td>\n",
       "      <td>1134.0</td>\n",
       "      <td>4015400541813</td>\n",
       "      <td>160</td>\n",
       "      <td>24</td>\n",
       "    </tr>\n",
       "    <tr>\n",
       "      <th>4</th>\n",
       "      <td>4</td>\n",
       "      <td>1114.0</td>\n",
       "      <td>884392580773</td>\n",
       "      <td>172</td>\n",
       "      <td>17</td>\n",
       "    </tr>\n",
       "    <tr>\n",
       "      <th>5</th>\n",
       "      <td>3</td>\n",
       "      <td>3464.0</td>\n",
       "      <td>617566827837</td>\n",
       "      <td>179</td>\n",
       "      <td>4</td>\n",
       "    </tr>\n",
       "    <tr>\n",
       "      <th>6</th>\n",
       "      <td>3</td>\n",
       "      <td>2535.0</td>\n",
       "      <td>6003000640348</td>\n",
       "      <td>113</td>\n",
       "      <td>71</td>\n",
       "    </tr>\n",
       "    <tr>\n",
       "      <th>7</th>\n",
       "      <td>3</td>\n",
       "      <td>1351.0</td>\n",
       "      <td>718037858494</td>\n",
       "      <td>156</td>\n",
       "      <td>11</td>\n",
       "    </tr>\n",
       "    <tr>\n",
       "      <th>8</th>\n",
       "      <td>3</td>\n",
       "      <td>1334.0</td>\n",
       "      <td>4549292118766</td>\n",
       "      <td>101</td>\n",
       "      <td>29</td>\n",
       "    </tr>\n",
       "    <tr>\n",
       "      <th>9</th>\n",
       "      <td>3</td>\n",
       "      <td>1177.0</td>\n",
       "      <td>6009706869533</td>\n",
       "      <td>139</td>\n",
       "      <td>94</td>\n",
       "    </tr>\n",
       "    <tr>\n",
       "      <th>10</th>\n",
       "      <td>3</td>\n",
       "      <td>1137.0</td>\n",
       "      <td>884392580773</td>\n",
       "      <td>114</td>\n",
       "      <td>16</td>\n",
       "    </tr>\n",
       "    <tr>\n",
       "      <th>11</th>\n",
       "      <td>2</td>\n",
       "      <td>10999.0</td>\n",
       "      <td>HTB5ABG31E3</td>\n",
       "      <td>123</td>\n",
       "      <td>11</td>\n",
       "    </tr>\n",
       "    <tr>\n",
       "      <th>12</th>\n",
       "      <td>2</td>\n",
       "      <td>3765.0</td>\n",
       "      <td>HTB5FI3BC8C</td>\n",
       "      <td>125</td>\n",
       "      <td>45</td>\n",
       "    </tr>\n",
       "    <tr>\n",
       "      <th>13</th>\n",
       "      <td>2</td>\n",
       "      <td>1999.0</td>\n",
       "      <td>741311301174</td>\n",
       "      <td>7</td>\n",
       "      <td>12</td>\n",
       "    </tr>\n",
       "    <tr>\n",
       "      <th>14</th>\n",
       "      <td>1</td>\n",
       "      <td>2299.0</td>\n",
       "      <td>5397184200193</td>\n",
       "      <td>23</td>\n",
       "      <td>39</td>\n",
       "    </tr>\n",
       "  </tbody>\n",
       "</table>\n",
       "</div>"
      ],
      "text/plain": [
       "    COUNT(CartID)    Total        Barcode  CartID  UserID\n",
       "0               4   3301.0   619659097318     136       5\n",
       "1               4   1716.0   834266002368     115      15\n",
       "2               4   1523.0      300507946     102       1\n",
       "3               4   1134.0  4015400541813     160      24\n",
       "4               4   1114.0   884392580773     172      17\n",
       "5               3   3464.0   617566827837     179       4\n",
       "6               3   2535.0  6003000640348     113      71\n",
       "7               3   1351.0   718037858494     156      11\n",
       "8               3   1334.0  4549292118766     101      29\n",
       "9               3   1177.0  6009706869533     139      94\n",
       "10              3   1137.0   884392580773     114      16\n",
       "11              2  10999.0    HTB5ABG31E3     123      11\n",
       "12              2   3765.0    HTB5FI3BC8C     125      45\n",
       "13              2   1999.0   741311301174       7      12\n",
       "14              1   2299.0  5397184200193      23      39"
      ]
     },
     "execution_count": 179,
     "metadata": {},
     "output_type": "execute_result"
    }
   ],
   "source": [
    "%%read_sql\n",
    "\n",
    "SELECT COUNT(CartID), Total, Barcode, CartID, UserID\n",
    "FROM Transactions_3NF\n",
    "WHERE Total > 1000\n",
    "GROUP BY Total\n",
    "ORDER BY COUNT(CartID) DESC\n",
    "\n",
    "-- 11/12"
   ]
  },
  {
   "cell_type": "markdown",
   "metadata": {
    "id": "9_-usJoSGE04"
   },
   "source": [
    "Q4) Which user(s) made the largest purchase on a sinlge transaction?"
   ]
  },
  {
   "cell_type": "code",
   "execution_count": 180,
   "metadata": {
    "id": "3i7wS1jJGE04"
   },
   "outputs": [
    {
     "name": "stdout",
     "output_type": "stream",
     "text": [
      "Query started at 08:14:15 PM South Africa Standard Time; Query executed in 0.00 m"
     ]
    },
    {
     "data": {
      "text/html": [
       "<div>\n",
       "<style scoped>\n",
       "    .dataframe tbody tr th:only-of-type {\n",
       "        vertical-align: middle;\n",
       "    }\n",
       "\n",
       "    .dataframe tbody tr th {\n",
       "        vertical-align: top;\n",
       "    }\n",
       "\n",
       "    .dataframe thead th {\n",
       "        text-align: right;\n",
       "    }\n",
       "</style>\n",
       "<table border=\"1\" class=\"dataframe\">\n",
       "  <thead>\n",
       "    <tr style=\"text-align: right;\">\n",
       "      <th></th>\n",
       "      <th>CartID</th>\n",
       "      <th>Total</th>\n",
       "      <th>UserID</th>\n",
       "      <th>UserName</th>\n",
       "    </tr>\n",
       "  </thead>\n",
       "  <tbody>\n",
       "    <tr>\n",
       "      <th>0</th>\n",
       "      <td>123</td>\n",
       "      <td>10999.0</td>\n",
       "      <td>11</td>\n",
       "      <td>Mandla</td>\n",
       "    </tr>\n",
       "    <tr>\n",
       "      <th>1</th>\n",
       "      <td>124</td>\n",
       "      <td>10999.0</td>\n",
       "      <td>47</td>\n",
       "      <td>Brigette</td>\n",
       "    </tr>\n",
       "    <tr>\n",
       "      <th>2</th>\n",
       "      <td>125</td>\n",
       "      <td>3765.0</td>\n",
       "      <td>45</td>\n",
       "      <td>Andreas Peter</td>\n",
       "    </tr>\n",
       "    <tr>\n",
       "      <th>3</th>\n",
       "      <td>126</td>\n",
       "      <td>3765.0</td>\n",
       "      <td>120</td>\n",
       "      <td>Mzoxolo</td>\n",
       "    </tr>\n",
       "    <tr>\n",
       "      <th>4</th>\n",
       "      <td>179</td>\n",
       "      <td>3464.0</td>\n",
       "      <td>4</td>\n",
       "      <td>Zanele</td>\n",
       "    </tr>\n",
       "    <tr>\n",
       "      <th>5</th>\n",
       "      <td>136</td>\n",
       "      <td>3301.0</td>\n",
       "      <td>5</td>\n",
       "      <td>Junaid</td>\n",
       "    </tr>\n",
       "    <tr>\n",
       "      <th>6</th>\n",
       "      <td>113</td>\n",
       "      <td>2535.0</td>\n",
       "      <td>71</td>\n",
       "      <td>Melandi</td>\n",
       "    </tr>\n",
       "    <tr>\n",
       "      <th>7</th>\n",
       "      <td>23</td>\n",
       "      <td>2299.0</td>\n",
       "      <td>39</td>\n",
       "      <td>Todani</td>\n",
       "    </tr>\n",
       "    <tr>\n",
       "      <th>8</th>\n",
       "      <td>7</td>\n",
       "      <td>1999.0</td>\n",
       "      <td>12</td>\n",
       "      <td>Cindy</td>\n",
       "    </tr>\n",
       "    <tr>\n",
       "      <th>9</th>\n",
       "      <td>57</td>\n",
       "      <td>1999.0</td>\n",
       "      <td>79</td>\n",
       "      <td>Anonymous</td>\n",
       "    </tr>\n",
       "  </tbody>\n",
       "</table>\n",
       "</div>"
      ],
      "text/plain": [
       "   CartID    Total  UserID       UserName\n",
       "0     123  10999.0      11         Mandla\n",
       "1     124  10999.0      47       Brigette\n",
       "2     125   3765.0      45  Andreas Peter\n",
       "3     126   3765.0     120        Mzoxolo\n",
       "4     179   3464.0       4         Zanele\n",
       "5     136   3301.0       5         Junaid\n",
       "6     113   2535.0      71        Melandi\n",
       "7      23   2299.0      39         Todani\n",
       "8       7   1999.0      12          Cindy\n",
       "9      57   1999.0      79      Anonymous"
      ]
     },
     "execution_count": 180,
     "metadata": {},
     "output_type": "execute_result"
    }
   ],
   "source": [
    "%%read_sql\n",
    "SELECT DISTINCT(T3NF.CartID), T3NF.Total, T3NF.UserID, U3NF.UserName\n",
    "FROM Transactions_3NF AS T3NF\n",
    "JOIN Users_3NF AS U3NF\n",
    "ON T3NF.UserID = U3NF.UserID\n",
    "ORDER BY Total DESC\n",
    "LIMIT 10\n",
    "\n"
   ]
  },
  {
   "cell_type": "markdown",
   "metadata": {
    "id": "Ik1EeR1dGE04"
   },
   "source": [
    "Q5) How many components does the product: \"5m Colour Changing RGB LED Strip Light\" (MPTAL57588104) come with?"
   ]
  },
  {
   "cell_type": "code",
   "execution_count": 181,
   "metadata": {
    "id": "BhTlfGsyGE04"
   },
   "outputs": [
    {
     "name": "stdout",
     "output_type": "stream",
     "text": [
      "Query started at 08:14:20 PM South Africa Standard Time; Query executed in 0.00 m"
     ]
    },
    {
     "data": {
      "text/html": [
       "<div>\n",
       "<style scoped>\n",
       "    .dataframe tbody tr th:only-of-type {\n",
       "        vertical-align: middle;\n",
       "    }\n",
       "\n",
       "    .dataframe tbody tr th {\n",
       "        vertical-align: top;\n",
       "    }\n",
       "\n",
       "    .dataframe thead th {\n",
       "        text-align: right;\n",
       "    }\n",
       "</style>\n",
       "<table border=\"1\" class=\"dataframe\">\n",
       "  <thead>\n",
       "    <tr style=\"text-align: right;\">\n",
       "      <th></th>\n",
       "      <th>ProductDescription</th>\n",
       "      <th>Barcode</th>\n",
       "      <th>COUNT(DISTINCT(PC3NF.ItemID))</th>\n",
       "      <th>ItemDescription</th>\n",
       "    </tr>\n",
       "  </thead>\n",
       "  <tbody>\n",
       "    <tr>\n",
       "      <th>0</th>\n",
       "      <td>5m Colour Changing RGB LED Strip Light</td>\n",
       "      <td>MPTAL57588104</td>\n",
       "      <td>4</td>\n",
       "      <td>1 x 12V 3A Power Supply</td>\n",
       "    </tr>\n",
       "  </tbody>\n",
       "</table>\n",
       "</div>"
      ],
      "text/plain": [
       "                       ProductDescription        Barcode  \\\n",
       "0  5m Colour Changing RGB LED Strip Light  MPTAL57588104   \n",
       "\n",
       "   COUNT(DISTINCT(PC3NF.ItemID))          ItemDescription  \n",
       "0                              4  1 x 12V 3A Power Supply  "
      ]
     },
     "execution_count": 181,
     "metadata": {},
     "output_type": "execute_result"
    }
   ],
   "source": [
    "%%read_sql\n",
    "SELECT P3NF.ProductDescription, P3NF.Barcode, COUNT(DISTINCT(PC3NF.ItemID)), PC3NF.ItemDescription\n",
    "FROM Products_3NF AS P3NF\n",
    "JOIN PackageContents_3NF AS PC3NF\n",
    "ON P3NF.ItemID = PC3NF.ItemID\n",
    "WHERE Barcode = 'MPTAL57588104'\n",
    "\n",
    "\n",
    "--4"
   ]
  },
  {
   "cell_type": "markdown",
   "metadata": {
    "id": "CLNf-BoGGE04"
   },
   "source": [
    "Q6) How many brands are available at Bhejane?"
   ]
  },
  {
   "cell_type": "code",
   "execution_count": 182,
   "metadata": {
    "id": "afrVCqnYGE04"
   },
   "outputs": [
    {
     "name": "stdout",
     "output_type": "stream",
     "text": [
      "Query started at 08:14:26 PM South Africa Standard Time; Query executed in 0.00 m"
     ]
    },
    {
     "data": {
      "text/html": [
       "<div>\n",
       "<style scoped>\n",
       "    .dataframe tbody tr th:only-of-type {\n",
       "        vertical-align: middle;\n",
       "    }\n",
       "\n",
       "    .dataframe tbody tr th {\n",
       "        vertical-align: top;\n",
       "    }\n",
       "\n",
       "    .dataframe thead th {\n",
       "        text-align: right;\n",
       "    }\n",
       "</style>\n",
       "<table border=\"1\" class=\"dataframe\">\n",
       "  <thead>\n",
       "    <tr style=\"text-align: right;\">\n",
       "      <th></th>\n",
       "      <th>COUNT(DISTINCT(Brand))</th>\n",
       "    </tr>\n",
       "  </thead>\n",
       "  <tbody>\n",
       "    <tr>\n",
       "      <th>0</th>\n",
       "      <td>233</td>\n",
       "    </tr>\n",
       "  </tbody>\n",
       "</table>\n",
       "</div>"
      ],
      "text/plain": [
       "   COUNT(DISTINCT(Brand))\n",
       "0                     233"
      ]
     },
     "execution_count": 182,
     "metadata": {},
     "output_type": "execute_result"
    }
   ],
   "source": [
    "%%read_sql\n",
    "SELECT COUNT(DISTINCT(Brand))\n",
    "FROM Brands_3NF\n"
   ]
  },
  {
   "cell_type": "markdown",
   "metadata": {
    "id": "B4usZSh1GE04"
   },
   "source": [
    "7) What is the price of the \"Verimark - Floorwiz 2in1 Mop\"?"
   ]
  },
  {
   "cell_type": "code",
   "execution_count": 183,
   "metadata": {
    "id": "8xipCT9JGE04"
   },
   "outputs": [
    {
     "name": "stdout",
     "output_type": "stream",
     "text": [
      "Query started at 08:14:32 PM South Africa Standard Time; Query executed in 0.00 m"
     ]
    },
    {
     "data": {
      "text/html": [
       "<div>\n",
       "<style scoped>\n",
       "    .dataframe tbody tr th:only-of-type {\n",
       "        vertical-align: middle;\n",
       "    }\n",
       "\n",
       "    .dataframe tbody tr th {\n",
       "        vertical-align: top;\n",
       "    }\n",
       "\n",
       "    .dataframe thead th {\n",
       "        text-align: right;\n",
       "    }\n",
       "</style>\n",
       "<table border=\"1\" class=\"dataframe\">\n",
       "  <thead>\n",
       "    <tr style=\"text-align: right;\">\n",
       "      <th></th>\n",
       "      <th>ProductDescription</th>\n",
       "      <th>Price</th>\n",
       "      <th>Barcode</th>\n",
       "    </tr>\n",
       "  </thead>\n",
       "  <tbody>\n",
       "    <tr>\n",
       "      <th>0</th>\n",
       "      <td>Verimark - Floorwiz 2in1 Mop</td>\n",
       "      <td>179.0</td>\n",
       "      <td>6005427110503</td>\n",
       "    </tr>\n",
       "  </tbody>\n",
       "</table>\n",
       "</div>"
      ],
      "text/plain": [
       "             ProductDescription  Price        Barcode\n",
       "0  Verimark - Floorwiz 2in1 Mop  179.0  6005427110503"
      ]
     },
     "execution_count": 183,
     "metadata": {},
     "output_type": "execute_result"
    }
   ],
   "source": [
    "%%read_sql\n",
    "SELECT DISTINCT(ProductDescription), Price, Barcode\n",
    "FROM Products_3NF\n",
    "WHERE ProductDescription LIKE 'Verimark - Floorwiz 2in1 Mop%'\n",
    "\n",
    "--179\n"
   ]
  },
  {
   "cell_type": "markdown",
   "metadata": {
    "id": "BGaE5N7nGE04"
   },
   "source": [
    "Q8) Calculate the package volume of the \"Russell Hobbs - Slow Cooker\" using the given dimensions. Round your answer to the nearest integer and ignore units for the calculation."
   ]
  },
  {
   "cell_type": "code",
   "execution_count": 184,
   "metadata": {
    "id": "4pOPg-jAGE04"
   },
   "outputs": [
    {
     "name": "stdout",
     "output_type": "stream",
     "text": [
      "Query started at 08:14:41 PM South Africa Standard Time; Query executed in 0.00 m"
     ]
    },
    {
     "data": {
      "text/html": [
       "<div>\n",
       "<style scoped>\n",
       "    .dataframe tbody tr th:only-of-type {\n",
       "        vertical-align: middle;\n",
       "    }\n",
       "\n",
       "    .dataframe tbody tr th {\n",
       "        vertical-align: top;\n",
       "    }\n",
       "\n",
       "    .dataframe thead th {\n",
       "        text-align: right;\n",
       "    }\n",
       "</style>\n",
       "<table border=\"1\" class=\"dataframe\">\n",
       "  <thead>\n",
       "    <tr style=\"text-align: right;\">\n",
       "      <th></th>\n",
       "      <th>ProductDescription</th>\n",
       "      <th>Volume</th>\n",
       "    </tr>\n",
       "  </thead>\n",
       "  <tbody>\n",
       "    <tr>\n",
       "      <th>0</th>\n",
       "      <td>Russell Hobbs - Slow Cooker</td>\n",
       "      <td>26928.0</td>\n",
       "    </tr>\n",
       "  </tbody>\n",
       "</table>\n",
       "</div>"
      ],
      "text/plain": [
       "            ProductDescription   Volume\n",
       "0  Russell Hobbs - Slow Cooker  26928.0"
      ]
     },
     "execution_count": 184,
     "metadata": {},
     "output_type": "execute_result"
    }
   ],
   "source": [
    "%%read_sql\n",
    "SELECT DISTINCT(ProductDescription), (Height * Width * Length) AS Volume\n",
    "FROM Products_3NF\n",
    "WHERE ProductDescription LIKE 'Russell Hobbs - Slow Cooker%'\n",
    "\n",
    "--26928/27254\n"
   ]
  },
  {
   "cell_type": "markdown",
   "metadata": {
    "id": "ZDogodiAGE04"
   },
   "source": [
    "Q9) Which user made the most transactions in the Year 2020?"
   ]
  },
  {
   "cell_type": "code",
   "execution_count": 185,
   "metadata": {
    "id": "PVUj_9THGE04"
   },
   "outputs": [
    {
     "name": "stdout",
     "output_type": "stream",
     "text": [
      "Query started at 08:14:46 PM South Africa Standard Time; Query executed in 0.00 m"
     ]
    },
    {
     "data": {
      "text/html": [
       "<div>\n",
       "<style scoped>\n",
       "    .dataframe tbody tr th:only-of-type {\n",
       "        vertical-align: middle;\n",
       "    }\n",
       "\n",
       "    .dataframe tbody tr th {\n",
       "        vertical-align: top;\n",
       "    }\n",
       "\n",
       "    .dataframe thead th {\n",
       "        text-align: right;\n",
       "    }\n",
       "</style>\n",
       "<table border=\"1\" class=\"dataframe\">\n",
       "  <thead>\n",
       "    <tr style=\"text-align: right;\">\n",
       "      <th></th>\n",
       "      <th>COUNT(UserID)</th>\n",
       "      <th>Total</th>\n",
       "      <th>UserID</th>\n",
       "    </tr>\n",
       "  </thead>\n",
       "  <tbody>\n",
       "    <tr>\n",
       "      <th>0</th>\n",
       "      <td>9</td>\n",
       "      <td>459.0</td>\n",
       "      <td>21</td>\n",
       "    </tr>\n",
       "    <tr>\n",
       "      <th>1</th>\n",
       "      <td>8</td>\n",
       "      <td>775.0</td>\n",
       "      <td>14</td>\n",
       "    </tr>\n",
       "    <tr>\n",
       "      <th>2</th>\n",
       "      <td>6</td>\n",
       "      <td>897.0</td>\n",
       "      <td>74</td>\n",
       "    </tr>\n",
       "    <tr>\n",
       "      <th>3</th>\n",
       "      <td>6</td>\n",
       "      <td>3464.0</td>\n",
       "      <td>4</td>\n",
       "    </tr>\n",
       "    <tr>\n",
       "      <th>4</th>\n",
       "      <td>5</td>\n",
       "      <td>1351.0</td>\n",
       "      <td>11</td>\n",
       "    </tr>\n",
       "    <tr>\n",
       "      <th>...</th>\n",
       "      <td>...</td>\n",
       "      <td>...</td>\n",
       "      <td>...</td>\n",
       "    </tr>\n",
       "    <tr>\n",
       "      <th>155</th>\n",
       "      <td>1</td>\n",
       "      <td>299.0</td>\n",
       "      <td>19</td>\n",
       "    </tr>\n",
       "    <tr>\n",
       "      <th>156</th>\n",
       "      <td>1</td>\n",
       "      <td>44.0</td>\n",
       "      <td>9</td>\n",
       "    </tr>\n",
       "    <tr>\n",
       "      <th>157</th>\n",
       "      <td>1</td>\n",
       "      <td>75.0</td>\n",
       "      <td>6</td>\n",
       "    </tr>\n",
       "    <tr>\n",
       "      <th>158</th>\n",
       "      <td>1</td>\n",
       "      <td>99.0</td>\n",
       "      <td>3</td>\n",
       "    </tr>\n",
       "    <tr>\n",
       "      <th>159</th>\n",
       "      <td>1</td>\n",
       "      <td>149.0</td>\n",
       "      <td>2</td>\n",
       "    </tr>\n",
       "  </tbody>\n",
       "</table>\n",
       "<p>160 rows × 3 columns</p>\n",
       "</div>"
      ],
      "text/plain": [
       "     COUNT(UserID)   Total  UserID\n",
       "0                9   459.0      21\n",
       "1                8   775.0      14\n",
       "2                6   897.0      74\n",
       "3                6  3464.0       4\n",
       "4                5  1351.0      11\n",
       "..             ...     ...     ...\n",
       "155              1   299.0      19\n",
       "156              1    44.0       9\n",
       "157              1    75.0       6\n",
       "158              1    99.0       3\n",
       "159              1   149.0       2\n",
       "\n",
       "[160 rows x 3 columns]"
      ]
     },
     "execution_count": 185,
     "metadata": {},
     "output_type": "execute_result"
    }
   ],
   "source": [
    "%%read_sql\n",
    "\n",
    "SELECT COUNT(UserID), Total, UserID\n",
    "FROM Transactions_3NF\n",
    "WHERE InvoiceDate BETWEEN '2020-01-01' AND '2020-12-31'\n",
    "GROUP BY UserID\n",
    "ORDER BY COUNT(UserID) DESC"
   ]
  },
  {
   "cell_type": "markdown",
   "metadata": {
    "id": "A_5dz4coGE04"
   },
   "source": [
    "Q10) What is the total number of recorded users that shop at Bhejane?"
   ]
  },
  {
   "cell_type": "code",
   "execution_count": 186,
   "metadata": {
    "id": "gVDNbI7pGE04"
   },
   "outputs": [
    {
     "name": "stdout",
     "output_type": "stream",
     "text": [
      "Query started at 08:15:03 PM South Africa Standard Time; Query executed in 0.00 m"
     ]
    },
    {
     "data": {
      "text/html": [
       "<div>\n",
       "<style scoped>\n",
       "    .dataframe tbody tr th:only-of-type {\n",
       "        vertical-align: middle;\n",
       "    }\n",
       "\n",
       "    .dataframe tbody tr th {\n",
       "        vertical-align: top;\n",
       "    }\n",
       "\n",
       "    .dataframe thead th {\n",
       "        text-align: right;\n",
       "    }\n",
       "</style>\n",
       "<table border=\"1\" class=\"dataframe\">\n",
       "  <thead>\n",
       "    <tr style=\"text-align: right;\">\n",
       "      <th></th>\n",
       "      <th>COUNT(DISTINCT(UserID))</th>\n",
       "    </tr>\n",
       "  </thead>\n",
       "  <tbody>\n",
       "    <tr>\n",
       "      <th>0</th>\n",
       "      <td>160</td>\n",
       "    </tr>\n",
       "  </tbody>\n",
       "</table>\n",
       "</div>"
      ],
      "text/plain": [
       "   COUNT(DISTINCT(UserID))\n",
       "0                      160"
      ]
     },
     "execution_count": 186,
     "metadata": {},
     "output_type": "execute_result"
    }
   ],
   "source": [
    "%%read_sql\n",
    "SELECT COUNT(DISTINCT(UserID))\n",
    "FROM Users_3NF\n"
   ]
  },
  {
   "cell_type": "markdown",
   "metadata": {
    "id": "8AS0LCOaGE04"
   },
   "source": [
    "Q11) What is the record count for the Colours_3NF Table?"
   ]
  },
  {
   "cell_type": "code",
   "execution_count": 187,
   "metadata": {
    "id": "9UdfWoubGE04"
   },
   "outputs": [
    {
     "name": "stdout",
     "output_type": "stream",
     "text": [
      "Query started at 08:15:08 PM South Africa Standard Time; Query executed in 0.00 m"
     ]
    },
    {
     "data": {
      "text/html": [
       "<div>\n",
       "<style scoped>\n",
       "    .dataframe tbody tr th:only-of-type {\n",
       "        vertical-align: middle;\n",
       "    }\n",
       "\n",
       "    .dataframe tbody tr th {\n",
       "        vertical-align: top;\n",
       "    }\n",
       "\n",
       "    .dataframe thead th {\n",
       "        text-align: right;\n",
       "    }\n",
       "</style>\n",
       "<table border=\"1\" class=\"dataframe\">\n",
       "  <thead>\n",
       "    <tr style=\"text-align: right;\">\n",
       "      <th></th>\n",
       "      <th>COUNT(DISTINCT(Colour))</th>\n",
       "    </tr>\n",
       "  </thead>\n",
       "  <tbody>\n",
       "    <tr>\n",
       "      <th>0</th>\n",
       "      <td>18</td>\n",
       "    </tr>\n",
       "  </tbody>\n",
       "</table>\n",
       "</div>"
      ],
      "text/plain": [
       "   COUNT(DISTINCT(Colour))\n",
       "0                       18"
      ]
     },
     "execution_count": 187,
     "metadata": {},
     "output_type": "execute_result"
    }
   ],
   "source": [
    "%%read_sql\n",
    "SELECT COUNT(DISTINCT(Colour))\n",
    "FROM Colours_3NF\n",
    "\n",
    "--18"
   ]
  },
  {
   "cell_type": "markdown",
   "metadata": {
    "id": "cfQAeUYhGE04"
   },
   "source": [
    "Q12) What would the total price be if I had the following items in my cart?\n",
    "* MPTAL57588104\n",
    "* 5000394203921\n",
    "* 6932391917652"
   ]
  },
  {
   "cell_type": "code",
   "execution_count": 188,
   "metadata": {
    "id": "K9fGfD9mGE04"
   },
   "outputs": [
    {
     "name": "stdout",
     "output_type": "stream",
     "text": [
      "Query started at 08:15:15 PM South Africa Standard Time; Query executed in 0.00 m"
     ]
    },
    {
     "data": {
      "text/html": [
       "<div>\n",
       "<style scoped>\n",
       "    .dataframe tbody tr th:only-of-type {\n",
       "        vertical-align: middle;\n",
       "    }\n",
       "\n",
       "    .dataframe tbody tr th {\n",
       "        vertical-align: top;\n",
       "    }\n",
       "\n",
       "    .dataframe thead th {\n",
       "        text-align: right;\n",
       "    }\n",
       "</style>\n",
       "<table border=\"1\" class=\"dataframe\">\n",
       "  <thead>\n",
       "    <tr style=\"text-align: right;\">\n",
       "      <th></th>\n",
       "      <th>Barcode</th>\n",
       "      <th>Price</th>\n",
       "    </tr>\n",
       "  </thead>\n",
       "  <tbody>\n",
       "    <tr>\n",
       "      <th>0</th>\n",
       "      <td>5000394203921</td>\n",
       "      <td>35.0</td>\n",
       "    </tr>\n",
       "    <tr>\n",
       "      <th>1</th>\n",
       "      <td>6932391917652</td>\n",
       "      <td>329.0</td>\n",
       "    </tr>\n",
       "    <tr>\n",
       "      <th>2</th>\n",
       "      <td>MPTAL57588104</td>\n",
       "      <td>370.0</td>\n",
       "    </tr>\n",
       "  </tbody>\n",
       "</table>\n",
       "</div>"
      ],
      "text/plain": [
       "         Barcode  Price\n",
       "0  5000394203921   35.0\n",
       "1  6932391917652  329.0\n",
       "2  MPTAL57588104  370.0"
      ]
     },
     "execution_count": 188,
     "metadata": {},
     "output_type": "execute_result"
    }
   ],
   "source": [
    "%%read_sql\n",
    "SELECT DISTINCT(Barcode), Price\n",
    "FROM Products_3NF\n",
    "WHERE Barcode = 'MPTAL57588104' OR Barcode = '5000394203921' OR Barcode = '6932391917652'\n",
    "\n",
    "--734"
   ]
  },
  {
   "cell_type": "markdown",
   "metadata": {
    "id": "DGhN2UuaGE04"
   },
   "source": [
    "Q13) What is the barcode of the most sold product?"
   ]
  },
  {
   "cell_type": "code",
   "execution_count": 189,
   "metadata": {
    "id": "t5w4A2l1GE04"
   },
   "outputs": [
    {
     "name": "stdout",
     "output_type": "stream",
     "text": [
      "Query started at 08:15:21 PM South Africa Standard Time; Query executed in 0.00 m"
     ]
    },
    {
     "data": {
      "text/html": [
       "<div>\n",
       "<style scoped>\n",
       "    .dataframe tbody tr th:only-of-type {\n",
       "        vertical-align: middle;\n",
       "    }\n",
       "\n",
       "    .dataframe tbody tr th {\n",
       "        vertical-align: top;\n",
       "    }\n",
       "\n",
       "    .dataframe thead th {\n",
       "        text-align: right;\n",
       "    }\n",
       "</style>\n",
       "<table border=\"1\" class=\"dataframe\">\n",
       "  <thead>\n",
       "    <tr style=\"text-align: right;\">\n",
       "      <th></th>\n",
       "      <th>COUNT(DISTINCT(Barcode))</th>\n",
       "      <th>Total</th>\n",
       "      <th>Barcode</th>\n",
       "    </tr>\n",
       "  </thead>\n",
       "  <tbody>\n",
       "    <tr>\n",
       "      <th>0</th>\n",
       "      <td>8</td>\n",
       "      <td>757.0</td>\n",
       "      <td>6001069603052</td>\n",
       "    </tr>\n",
       "    <tr>\n",
       "      <th>1</th>\n",
       "      <td>6</td>\n",
       "      <td>99.0</td>\n",
       "      <td>614143543746</td>\n",
       "    </tr>\n",
       "    <tr>\n",
       "      <th>2</th>\n",
       "      <td>4</td>\n",
       "      <td>3301.0</td>\n",
       "      <td>619659097318</td>\n",
       "    </tr>\n",
       "    <tr>\n",
       "      <th>3</th>\n",
       "      <td>4</td>\n",
       "      <td>1716.0</td>\n",
       "      <td>834266002368</td>\n",
       "    </tr>\n",
       "    <tr>\n",
       "      <th>4</th>\n",
       "      <td>4</td>\n",
       "      <td>1523.0</td>\n",
       "      <td>300507946</td>\n",
       "    </tr>\n",
       "    <tr>\n",
       "      <th>5</th>\n",
       "      <td>4</td>\n",
       "      <td>1134.0</td>\n",
       "      <td>4015400541813</td>\n",
       "    </tr>\n",
       "    <tr>\n",
       "      <th>6</th>\n",
       "      <td>4</td>\n",
       "      <td>1114.0</td>\n",
       "      <td>884392580773</td>\n",
       "    </tr>\n",
       "    <tr>\n",
       "      <th>7</th>\n",
       "      <td>4</td>\n",
       "      <td>897.0</td>\n",
       "      <td>6003977000206</td>\n",
       "    </tr>\n",
       "    <tr>\n",
       "      <th>8</th>\n",
       "      <td>4</td>\n",
       "      <td>816.0</td>\n",
       "      <td>6001106128616</td>\n",
       "    </tr>\n",
       "    <tr>\n",
       "      <th>9</th>\n",
       "      <td>4</td>\n",
       "      <td>687.0</td>\n",
       "      <td>4210201043577</td>\n",
       "    </tr>\n",
       "  </tbody>\n",
       "</table>\n",
       "</div>"
      ],
      "text/plain": [
       "   COUNT(DISTINCT(Barcode))   Total        Barcode\n",
       "0                         8   757.0  6001069603052\n",
       "1                         6    99.0   614143543746\n",
       "2                         4  3301.0   619659097318\n",
       "3                         4  1716.0   834266002368\n",
       "4                         4  1523.0      300507946\n",
       "5                         4  1134.0  4015400541813\n",
       "6                         4  1114.0   884392580773\n",
       "7                         4   897.0  6003977000206\n",
       "8                         4   816.0  6001106128616\n",
       "9                         4   687.0  4210201043577"
      ]
     },
     "execution_count": 189,
     "metadata": {},
     "output_type": "execute_result"
    }
   ],
   "source": [
    "%%read_sql\n",
    "\n",
    "SELECT COUNT(DISTINCT(Barcode)), Total, Barcode\n",
    "FROM Transactions_3NF\n",
    "GROUP BY Total\n",
    "ORDER BY COUNT(DISTINCT(Barcode)) DESC\n",
    "LIMIT 10\n",
    "\n",
    "--6003000542475, MPTAL00115390, 6001069603052"
   ]
  },
  {
   "cell_type": "markdown",
   "metadata": {
    "id": "TINkZg-7GE05"
   },
   "source": [
    "Q14) What are the products of Cornelis’ cart on the 2020-06-28 0:00:00?"
   ]
  },
  {
   "cell_type": "code",
   "execution_count": 190,
   "metadata": {
    "id": "82Bmwr7bGE05",
    "scrolled": true
   },
   "outputs": [
    {
     "name": "stdout",
     "output_type": "stream",
     "text": [
      "Query started at 08:15:27 PM South Africa Standard Time; Query executed in 0.00 m"
     ]
    },
    {
     "data": {
      "text/html": [
       "<div>\n",
       "<style scoped>\n",
       "    .dataframe tbody tr th:only-of-type {\n",
       "        vertical-align: middle;\n",
       "    }\n",
       "\n",
       "    .dataframe tbody tr th {\n",
       "        vertical-align: top;\n",
       "    }\n",
       "\n",
       "    .dataframe thead th {\n",
       "        text-align: right;\n",
       "    }\n",
       "</style>\n",
       "<table border=\"1\" class=\"dataframe\">\n",
       "  <thead>\n",
       "    <tr style=\"text-align: right;\">\n",
       "      <th></th>\n",
       "      <th>CartID</th>\n",
       "      <th>Barcode</th>\n",
       "      <th>UserID</th>\n",
       "      <th>InvoiceDate</th>\n",
       "      <th>ProductDescription</th>\n",
       "      <th>UserName</th>\n",
       "    </tr>\n",
       "  </thead>\n",
       "  <tbody>\n",
       "    <tr>\n",
       "      <th>0</th>\n",
       "      <td>104</td>\n",
       "      <td>6001106124069</td>\n",
       "      <td>21</td>\n",
       "      <td>2020-06-28 0:00:00</td>\n",
       "      <td>Dettol Body Wash - Shower Gel - Original - 600ml</td>\n",
       "      <td>Cornelis</td>\n",
       "    </tr>\n",
       "    <tr>\n",
       "      <th>1</th>\n",
       "      <td>104</td>\n",
       "      <td>6003753002035AP</td>\n",
       "      <td>21</td>\n",
       "      <td>2020-06-28 0:00:00</td>\n",
       "      <td>Vitality Aloe Vera Gel 100ml</td>\n",
       "      <td>Cornelis</td>\n",
       "    </tr>\n",
       "    <tr>\n",
       "      <th>2</th>\n",
       "      <td>104</td>\n",
       "      <td>MPTAL00555756</td>\n",
       "      <td>21</td>\n",
       "      <td>2020-06-28 0:00:00</td>\n",
       "      <td>Sparq Active Resistance Loop Band - Set of 5 w...</td>\n",
       "      <td>Cornelis</td>\n",
       "    </tr>\n",
       "    <tr>\n",
       "      <th>3</th>\n",
       "      <td>104</td>\n",
       "      <td>MPTAL72193414</td>\n",
       "      <td>21</td>\n",
       "      <td>2020-06-28 0:00:00</td>\n",
       "      <td>Protective Face Shield</td>\n",
       "      <td>Cornelis</td>\n",
       "    </tr>\n",
       "  </tbody>\n",
       "</table>\n",
       "</div>"
      ],
      "text/plain": [
       "   CartID          Barcode  UserID         InvoiceDate  \\\n",
       "0     104    6001106124069      21  2020-06-28 0:00:00   \n",
       "1     104  6003753002035AP      21  2020-06-28 0:00:00   \n",
       "2     104    MPTAL00555756      21  2020-06-28 0:00:00   \n",
       "3     104    MPTAL72193414      21  2020-06-28 0:00:00   \n",
       "\n",
       "                                  ProductDescription  UserName  \n",
       "0   Dettol Body Wash - Shower Gel - Original - 600ml  Cornelis  \n",
       "1                       Vitality Aloe Vera Gel 100ml  Cornelis  \n",
       "2  Sparq Active Resistance Loop Band - Set of 5 w...  Cornelis  \n",
       "3                             Protective Face Shield  Cornelis  "
      ]
     },
     "execution_count": 190,
     "metadata": {},
     "output_type": "execute_result"
    }
   ],
   "source": [
    "%%read_sql\n",
    "SELECT DISTINCT(T3NF.CartID), T3NF.Barcode, T3NF.UserID, T3NF.InvoiceDate, P3NF.ProductDescription, U3NF.UserName\n",
    "FROM Transactions_3NF AS T3NF\n",
    "JOIN Products_3NF AS P3NF\n",
    "ON T3NF.Barcode = P3NF.Barcode\n",
    "JOIN Users_3NF AS U3NF\n",
    "ON T3NF.UserID = U3NF.UserID\n",
    "JOIN PackageContents_3NF AS PC3NF \n",
    "WHERE T3NF.UserID = '21' AND InvoiceDate = '2020-06-28 0:00:00'\n"
   ]
  },
  {
   "cell_type": "markdown",
   "metadata": {},
   "source": [
    "Q15) Which users bought locally produced, black-coloured products on odd-numbered months of the year, and what was the total cost (rounded to the nearest integer) of these products?"
   ]
  },
  {
   "cell_type": "code",
   "execution_count": 191,
   "metadata": {
    "scrolled": true
   },
   "outputs": [
    {
     "name": "stdout",
     "output_type": "stream",
     "text": [
      "Query started at 08:15:32 PM South Africa Standard Time; Query executed in 0.00 m"
     ]
    },
    {
     "data": {
      "text/html": [
       "<div>\n",
       "<style scoped>\n",
       "    .dataframe tbody tr th:only-of-type {\n",
       "        vertical-align: middle;\n",
       "    }\n",
       "\n",
       "    .dataframe tbody tr th {\n",
       "        vertical-align: top;\n",
       "    }\n",
       "\n",
       "    .dataframe thead th {\n",
       "        text-align: right;\n",
       "    }\n",
       "</style>\n",
       "<table border=\"1\" class=\"dataframe\">\n",
       "  <thead>\n",
       "    <tr style=\"text-align: right;\">\n",
       "      <th></th>\n",
       "      <th>ProductDescription</th>\n",
       "      <th>StockCountry</th>\n",
       "      <th>Colour</th>\n",
       "      <th>InvoiceDate</th>\n",
       "      <th>UserID</th>\n",
       "      <th>Total</th>\n",
       "      <th>UserName</th>\n",
       "    </tr>\n",
       "  </thead>\n",
       "  <tbody>\n",
       "    <tr>\n",
       "      <th>0</th>\n",
       "      <td>Sodastream - Classic Carbonating Bottle 1 Litr...</td>\n",
       "      <td>South Africa</td>\n",
       "      <td>Black</td>\n",
       "      <td>2020-07-28 0:00:00</td>\n",
       "      <td>105</td>\n",
       "      <td>179.0</td>\n",
       "      <td>Jeandre</td>\n",
       "    </tr>\n",
       "    <tr>\n",
       "      <th>1</th>\n",
       "      <td>Sodastream - Classic Carbonating Bottle 1 Litr...</td>\n",
       "      <td>South Africa</td>\n",
       "      <td>Black</td>\n",
       "      <td>2020-07-28 0:00:00</td>\n",
       "      <td>105</td>\n",
       "      <td>179.0</td>\n",
       "      <td>Jeandre</td>\n",
       "    </tr>\n",
       "    <tr>\n",
       "      <th>2</th>\n",
       "      <td>Addis - Rough Tote - 30 Litre</td>\n",
       "      <td>South Africa</td>\n",
       "      <td>Black</td>\n",
       "      <td>2020-07-26 0:00:00</td>\n",
       "      <td>50</td>\n",
       "      <td>93.0</td>\n",
       "      <td>Conrad</td>\n",
       "    </tr>\n",
       "    <tr>\n",
       "      <th>3</th>\n",
       "      <td>Duracell Plus Alkaline AAA Batteries - 20 Pack</td>\n",
       "      <td>South Africa</td>\n",
       "      <td>Black</td>\n",
       "      <td>2020-07-04 0:00:00</td>\n",
       "      <td>33</td>\n",
       "      <td>189.0</td>\n",
       "      <td>Hester</td>\n",
       "    </tr>\n",
       "    <tr>\n",
       "      <th>4</th>\n",
       "      <td>Compatible Canon 737 Black Laser Toner Cartridge</td>\n",
       "      <td>South Africa</td>\n",
       "      <td>Black</td>\n",
       "      <td>2020-07-02 0:00:00</td>\n",
       "      <td>1</td>\n",
       "      <td>1523.0</td>\n",
       "      <td>DIMPHO</td>\n",
       "    </tr>\n",
       "    <tr>\n",
       "      <th>5</th>\n",
       "      <td>Canon PIXMA TR4540 A4 4-in-1 Wi-Fi Inkjet Printer</td>\n",
       "      <td>South Africa</td>\n",
       "      <td>Black</td>\n",
       "      <td>2020-06-19 0:00:00</td>\n",
       "      <td>28</td>\n",
       "      <td>899.0</td>\n",
       "      <td>Waylenn</td>\n",
       "    </tr>\n",
       "    <tr>\n",
       "      <th>6</th>\n",
       "      <td>Canon PIXMA TR4540 A4 4-in-1 Wi-Fi Inkjet Printer</td>\n",
       "      <td>South Africa</td>\n",
       "      <td>Black</td>\n",
       "      <td>2020-06-19 0:00:00</td>\n",
       "      <td>28</td>\n",
       "      <td>899.0</td>\n",
       "      <td>Waylenn</td>\n",
       "    </tr>\n",
       "    <tr>\n",
       "      <th>7</th>\n",
       "      <td>Canon PIXMA TR4540 A4 4-in-1 Wi-Fi Inkjet Printer</td>\n",
       "      <td>South Africa</td>\n",
       "      <td>Black</td>\n",
       "      <td>2020-06-19 0:00:00</td>\n",
       "      <td>28</td>\n",
       "      <td>899.0</td>\n",
       "      <td>Waylenn</td>\n",
       "    </tr>\n",
       "    <tr>\n",
       "      <th>8</th>\n",
       "      <td>Canon PIXMA TR4540 A4 4-in-1 Wi-Fi Inkjet Printer</td>\n",
       "      <td>South Africa</td>\n",
       "      <td>Black</td>\n",
       "      <td>2020-06-19 0:00:00</td>\n",
       "      <td>28</td>\n",
       "      <td>899.0</td>\n",
       "      <td>Waylenn</td>\n",
       "    </tr>\n",
       "    <tr>\n",
       "      <th>9</th>\n",
       "      <td>Canon PIXMA TR4540 A4 4-in-1 Wi-Fi Inkjet Printer</td>\n",
       "      <td>South Africa</td>\n",
       "      <td>Black</td>\n",
       "      <td>2020-06-19 0:00:00</td>\n",
       "      <td>28</td>\n",
       "      <td>899.0</td>\n",
       "      <td>Waylenn</td>\n",
       "    </tr>\n",
       "    <tr>\n",
       "      <th>10</th>\n",
       "      <td>Ausdom AW635 1080P Streaming Web Camera - Black</td>\n",
       "      <td>South Africa</td>\n",
       "      <td>Black</td>\n",
       "      <td>2020-06-16 0:00:00</td>\n",
       "      <td>104</td>\n",
       "      <td>798.0</td>\n",
       "      <td>Kelsey Brynne</td>\n",
       "    </tr>\n",
       "    <tr>\n",
       "      <th>11</th>\n",
       "      <td>Ausdom AW635 1080P Streaming Web Camera - Black</td>\n",
       "      <td>South Africa</td>\n",
       "      <td>Black</td>\n",
       "      <td>2020-06-16 0:00:00</td>\n",
       "      <td>104</td>\n",
       "      <td>798.0</td>\n",
       "      <td>Kelsey Brynne</td>\n",
       "    </tr>\n",
       "    <tr>\n",
       "      <th>12</th>\n",
       "      <td>Canon PIXMA TR4540 A4 4-in-1 Wi-Fi Inkjet Printer</td>\n",
       "      <td>South Africa</td>\n",
       "      <td>Black</td>\n",
       "      <td>2020-06-09 0:00:00</td>\n",
       "      <td>29</td>\n",
       "      <td>1334.0</td>\n",
       "      <td>Hanno</td>\n",
       "    </tr>\n",
       "    <tr>\n",
       "      <th>13</th>\n",
       "      <td>Canon PIXMA TR4540 A4 4-in-1 Wi-Fi Inkjet Printer</td>\n",
       "      <td>South Africa</td>\n",
       "      <td>Black</td>\n",
       "      <td>2020-06-09 0:00:00</td>\n",
       "      <td>29</td>\n",
       "      <td>1334.0</td>\n",
       "      <td>Hanno</td>\n",
       "    </tr>\n",
       "    <tr>\n",
       "      <th>14</th>\n",
       "      <td>Canon PIXMA TR4540 A4 4-in-1 Wi-Fi Inkjet Printer</td>\n",
       "      <td>South Africa</td>\n",
       "      <td>Black</td>\n",
       "      <td>2020-06-09 0:00:00</td>\n",
       "      <td>29</td>\n",
       "      <td>1334.0</td>\n",
       "      <td>Hanno</td>\n",
       "    </tr>\n",
       "    <tr>\n",
       "      <th>15</th>\n",
       "      <td>Canon PIXMA TR4540 A4 4-in-1 Wi-Fi Inkjet Printer</td>\n",
       "      <td>South Africa</td>\n",
       "      <td>Black</td>\n",
       "      <td>2020-06-09 0:00:00</td>\n",
       "      <td>29</td>\n",
       "      <td>1334.0</td>\n",
       "      <td>Hanno</td>\n",
       "    </tr>\n",
       "    <tr>\n",
       "      <th>16</th>\n",
       "      <td>Canon PIXMA TR4540 A4 4-in-1 Wi-Fi Inkjet Printer</td>\n",
       "      <td>South Africa</td>\n",
       "      <td>Black</td>\n",
       "      <td>2020-06-09 0:00:00</td>\n",
       "      <td>29</td>\n",
       "      <td>1334.0</td>\n",
       "      <td>Hanno</td>\n",
       "    </tr>\n",
       "    <tr>\n",
       "      <th>17</th>\n",
       "      <td>Brother TN1000 /1000 Compatible Toner</td>\n",
       "      <td>South Africa</td>\n",
       "      <td>Black</td>\n",
       "      <td>2020-06-09 0:00:00</td>\n",
       "      <td>29</td>\n",
       "      <td>1334.0</td>\n",
       "      <td>Hanno</td>\n",
       "    </tr>\n",
       "    <tr>\n",
       "      <th>18</th>\n",
       "      <td>WD Elements Portable 1TB USB 3,0</td>\n",
       "      <td>South Africa</td>\n",
       "      <td>Black</td>\n",
       "      <td>2020-06-01 0:00:00</td>\n",
       "      <td>4</td>\n",
       "      <td>840.0</td>\n",
       "      <td>Zanele</td>\n",
       "    </tr>\n",
       "    <tr>\n",
       "      <th>19</th>\n",
       "      <td>WD Elements Portable 1TB USB 3,0</td>\n",
       "      <td>South Africa</td>\n",
       "      <td>Black</td>\n",
       "      <td>2020-06-01 0:00:00</td>\n",
       "      <td>4</td>\n",
       "      <td>840.0</td>\n",
       "      <td>Zanele</td>\n",
       "    </tr>\n",
       "    <tr>\n",
       "      <th>20</th>\n",
       "      <td>WD Elements Portable 1TB USB 3,0</td>\n",
       "      <td>South Africa</td>\n",
       "      <td>Black</td>\n",
       "      <td>2020-06-01 0:00:00</td>\n",
       "      <td>4</td>\n",
       "      <td>840.0</td>\n",
       "      <td>Zanele</td>\n",
       "    </tr>\n",
       "    <tr>\n",
       "      <th>21</th>\n",
       "      <td>Ausdom AW635 1080P Streaming Web Camera - Black</td>\n",
       "      <td>South Africa</td>\n",
       "      <td>Black</td>\n",
       "      <td>2020-05-18 0:00:00</td>\n",
       "      <td>32</td>\n",
       "      <td>798.0</td>\n",
       "      <td>Lacin</td>\n",
       "    </tr>\n",
       "    <tr>\n",
       "      <th>22</th>\n",
       "      <td>Ausdom AW635 1080P Streaming Web Camera - Black</td>\n",
       "      <td>South Africa</td>\n",
       "      <td>Black</td>\n",
       "      <td>2020-05-18 0:00:00</td>\n",
       "      <td>32</td>\n",
       "      <td>798.0</td>\n",
       "      <td>Lacin</td>\n",
       "    </tr>\n",
       "    <tr>\n",
       "      <th>23</th>\n",
       "      <td>JBL T500BT Wireless On-Ear Headphones - Black</td>\n",
       "      <td>South Africa</td>\n",
       "      <td>Black</td>\n",
       "      <td>2020-05-04 0:00:00</td>\n",
       "      <td>101</td>\n",
       "      <td>799.0</td>\n",
       "      <td>Carel</td>\n",
       "    </tr>\n",
       "    <tr>\n",
       "      <th>24</th>\n",
       "      <td>JBL T500BT Wireless On-Ear Headphones - Black</td>\n",
       "      <td>South Africa</td>\n",
       "      <td>Black</td>\n",
       "      <td>2020-05-04 0:00:00</td>\n",
       "      <td>101</td>\n",
       "      <td>799.0</td>\n",
       "      <td>Carel</td>\n",
       "    </tr>\n",
       "    <tr>\n",
       "      <th>25</th>\n",
       "      <td>JBL T500BT Wireless On-Ear Headphones - Black</td>\n",
       "      <td>South Africa</td>\n",
       "      <td>Black</td>\n",
       "      <td>2020-05-04 0:00:00</td>\n",
       "      <td>101</td>\n",
       "      <td>799.0</td>\n",
       "      <td>Carel</td>\n",
       "    </tr>\n",
       "    <tr>\n",
       "      <th>26</th>\n",
       "      <td>JBL T500BT Wireless On-Ear Headphones - Black</td>\n",
       "      <td>South Africa</td>\n",
       "      <td>Black</td>\n",
       "      <td>2020-05-04 0:00:00</td>\n",
       "      <td>101</td>\n",
       "      <td>799.0</td>\n",
       "      <td>Carel</td>\n",
       "    </tr>\n",
       "    <tr>\n",
       "      <th>27</th>\n",
       "      <td>The Secret Fat Burner</td>\n",
       "      <td>South Africa</td>\n",
       "      <td>Black</td>\n",
       "      <td>2020-04-24 0:00:00</td>\n",
       "      <td>136</td>\n",
       "      <td>745.0</td>\n",
       "      <td>keith</td>\n",
       "    </tr>\n",
       "    <tr>\n",
       "      <th>28</th>\n",
       "      <td>Weber - 4kg Briquettes - 3 Pack</td>\n",
       "      <td>South Africa</td>\n",
       "      <td>Black</td>\n",
       "      <td>2020-04-16 0:00:00</td>\n",
       "      <td>116</td>\n",
       "      <td>149.0</td>\n",
       "      <td>Charlene</td>\n",
       "    </tr>\n",
       "    <tr>\n",
       "      <th>29</th>\n",
       "      <td>Weber - 4kg Briquettes - 3 Pack</td>\n",
       "      <td>South Africa</td>\n",
       "      <td>Black</td>\n",
       "      <td>2020-04-16 0:00:00</td>\n",
       "      <td>116</td>\n",
       "      <td>149.0</td>\n",
       "      <td>Charlene</td>\n",
       "    </tr>\n",
       "    <tr>\n",
       "      <th>30</th>\n",
       "      <td>Alva - Gas Level Indicator</td>\n",
       "      <td>South Africa</td>\n",
       "      <td>Black</td>\n",
       "      <td>2020-04-10 0:00:00</td>\n",
       "      <td>14</td>\n",
       "      <td>775.0</td>\n",
       "      <td>Erlo</td>\n",
       "    </tr>\n",
       "    <tr>\n",
       "      <th>31</th>\n",
       "      <td>RCT 2000VA Line Interactive UPS</td>\n",
       "      <td>South Africa</td>\n",
       "      <td>Black</td>\n",
       "      <td>2020-03-31 0:00:00</td>\n",
       "      <td>12</td>\n",
       "      <td>1999.0</td>\n",
       "      <td>Cindy</td>\n",
       "    </tr>\n",
       "  </tbody>\n",
       "</table>\n",
       "</div>"
      ],
      "text/plain": [
       "                                   ProductDescription  StockCountry Colour  \\\n",
       "0   Sodastream - Classic Carbonating Bottle 1 Litr...  South Africa  Black   \n",
       "1   Sodastream - Classic Carbonating Bottle 1 Litr...  South Africa  Black   \n",
       "2                       Addis - Rough Tote - 30 Litre  South Africa  Black   \n",
       "3      Duracell Plus Alkaline AAA Batteries - 20 Pack  South Africa  Black   \n",
       "4    Compatible Canon 737 Black Laser Toner Cartridge  South Africa  Black   \n",
       "5   Canon PIXMA TR4540 A4 4-in-1 Wi-Fi Inkjet Printer  South Africa  Black   \n",
       "6   Canon PIXMA TR4540 A4 4-in-1 Wi-Fi Inkjet Printer  South Africa  Black   \n",
       "7   Canon PIXMA TR4540 A4 4-in-1 Wi-Fi Inkjet Printer  South Africa  Black   \n",
       "8   Canon PIXMA TR4540 A4 4-in-1 Wi-Fi Inkjet Printer  South Africa  Black   \n",
       "9   Canon PIXMA TR4540 A4 4-in-1 Wi-Fi Inkjet Printer  South Africa  Black   \n",
       "10    Ausdom AW635 1080P Streaming Web Camera - Black  South Africa  Black   \n",
       "11    Ausdom AW635 1080P Streaming Web Camera - Black  South Africa  Black   \n",
       "12  Canon PIXMA TR4540 A4 4-in-1 Wi-Fi Inkjet Printer  South Africa  Black   \n",
       "13  Canon PIXMA TR4540 A4 4-in-1 Wi-Fi Inkjet Printer  South Africa  Black   \n",
       "14  Canon PIXMA TR4540 A4 4-in-1 Wi-Fi Inkjet Printer  South Africa  Black   \n",
       "15  Canon PIXMA TR4540 A4 4-in-1 Wi-Fi Inkjet Printer  South Africa  Black   \n",
       "16  Canon PIXMA TR4540 A4 4-in-1 Wi-Fi Inkjet Printer  South Africa  Black   \n",
       "17              Brother TN1000 /1000 Compatible Toner  South Africa  Black   \n",
       "18                   WD Elements Portable 1TB USB 3,0  South Africa  Black   \n",
       "19                   WD Elements Portable 1TB USB 3,0  South Africa  Black   \n",
       "20                   WD Elements Portable 1TB USB 3,0  South Africa  Black   \n",
       "21    Ausdom AW635 1080P Streaming Web Camera - Black  South Africa  Black   \n",
       "22    Ausdom AW635 1080P Streaming Web Camera - Black  South Africa  Black   \n",
       "23      JBL T500BT Wireless On-Ear Headphones - Black  South Africa  Black   \n",
       "24      JBL T500BT Wireless On-Ear Headphones - Black  South Africa  Black   \n",
       "25      JBL T500BT Wireless On-Ear Headphones - Black  South Africa  Black   \n",
       "26      JBL T500BT Wireless On-Ear Headphones - Black  South Africa  Black   \n",
       "27                              The Secret Fat Burner  South Africa  Black   \n",
       "28                    Weber - 4kg Briquettes - 3 Pack  South Africa  Black   \n",
       "29                    Weber - 4kg Briquettes - 3 Pack  South Africa  Black   \n",
       "30                         Alva - Gas Level Indicator  South Africa  Black   \n",
       "31                    RCT 2000VA Line Interactive UPS  South Africa  Black   \n",
       "\n",
       "           InvoiceDate  UserID   Total       UserName  \n",
       "0   2020-07-28 0:00:00     105   179.0        Jeandre  \n",
       "1   2020-07-28 0:00:00     105   179.0        Jeandre  \n",
       "2   2020-07-26 0:00:00      50    93.0         Conrad  \n",
       "3   2020-07-04 0:00:00      33   189.0         Hester  \n",
       "4   2020-07-02 0:00:00       1  1523.0         DIMPHO  \n",
       "5   2020-06-19 0:00:00      28   899.0        Waylenn  \n",
       "6   2020-06-19 0:00:00      28   899.0        Waylenn  \n",
       "7   2020-06-19 0:00:00      28   899.0        Waylenn  \n",
       "8   2020-06-19 0:00:00      28   899.0        Waylenn  \n",
       "9   2020-06-19 0:00:00      28   899.0        Waylenn  \n",
       "10  2020-06-16 0:00:00     104   798.0  Kelsey Brynne  \n",
       "11  2020-06-16 0:00:00     104   798.0  Kelsey Brynne  \n",
       "12  2020-06-09 0:00:00      29  1334.0          Hanno  \n",
       "13  2020-06-09 0:00:00      29  1334.0          Hanno  \n",
       "14  2020-06-09 0:00:00      29  1334.0          Hanno  \n",
       "15  2020-06-09 0:00:00      29  1334.0          Hanno  \n",
       "16  2020-06-09 0:00:00      29  1334.0          Hanno  \n",
       "17  2020-06-09 0:00:00      29  1334.0          Hanno  \n",
       "18  2020-06-01 0:00:00       4   840.0         Zanele  \n",
       "19  2020-06-01 0:00:00       4   840.0         Zanele  \n",
       "20  2020-06-01 0:00:00       4   840.0         Zanele  \n",
       "21  2020-05-18 0:00:00      32   798.0          Lacin  \n",
       "22  2020-05-18 0:00:00      32   798.0          Lacin  \n",
       "23  2020-05-04 0:00:00     101   799.0          Carel  \n",
       "24  2020-05-04 0:00:00     101   799.0          Carel  \n",
       "25  2020-05-04 0:00:00     101   799.0          Carel  \n",
       "26  2020-05-04 0:00:00     101   799.0          Carel  \n",
       "27  2020-04-24 0:00:00     136   745.0          keith  \n",
       "28  2020-04-16 0:00:00     116   149.0       Charlene  \n",
       "29  2020-04-16 0:00:00     116   149.0       Charlene  \n",
       "30  2020-04-10 0:00:00      14   775.0           Erlo  \n",
       "31  2020-03-31 0:00:00      12  1999.0          Cindy  "
      ]
     },
     "execution_count": 191,
     "metadata": {},
     "output_type": "execute_result"
    }
   ],
   "source": [
    "%%read_sql\n",
    "\n",
    "SELECT P3NF.ProductDescription, L3NF.StockCountry, C3NF.Colour, T3NF.InvoiceDate, T3NF.UserID, T3NF.Total, U3NF.UserName\n",
    "FROM Products_3NF AS P3NF\n",
    "JOIN Locations_3NF AS L3NF\n",
    "ON P3NF.LocationID = L3NF.LocationID\n",
    "JOIN Colours_3NF AS C3NF\n",
    "ON P3NF.ColourID = C3NF.ColourID\n",
    "JOIN Transactions_3NF AS T3NF\n",
    "ON P3NF.Barcode = T3NF.Barcode\n",
    "JOIN Users_3NF AS U3NF\n",
    "ON T3NF.UserID = U3NF.UserID\n",
    "WHERE L3NF.StockCountry = 'South Africa' AND C3NF.Colour = 'Black' \n",
    "ORDER BY InvoiceDate DESC\n"
   ]
  },
  {
   "cell_type": "code",
   "execution_count": null,
   "metadata": {},
   "outputs": [],
   "source": []
  }
 ],
 "metadata": {
  "colab": {
   "collapsed_sections": [],
   "name": "SQL_Predict_Student_Notebook.ipynb",
   "provenance": []
  },
  "kernelspec": {
   "display_name": "Python 3",
   "language": "python",
   "name": "python3"
  },
  "language_info": {
   "codemirror_mode": {
    "name": "ipython",
    "version": 3
   },
   "file_extension": ".py",
   "mimetype": "text/x-python",
   "name": "python",
   "nbconvert_exporter": "python",
   "pygments_lexer": "ipython3",
   "version": "3.7.6"
  }
 },
 "nbformat": 4,
 "nbformat_minor": 4
}
